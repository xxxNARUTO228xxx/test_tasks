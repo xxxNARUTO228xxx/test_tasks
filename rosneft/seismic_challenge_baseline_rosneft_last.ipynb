{
  "cells": [
    {
      "cell_type": "markdown",
      "source": [
        "Задача: https://boosters.pro/championship/rsc_sandbox/overview\n",
        "\n",
        "Итоговый скор: 0.80754"
      ],
      "metadata": {
        "id": "i7GKVxUjzybc"
      }
    },
    {
      "cell_type": "markdown",
      "source": [
        "# Preparation"
      ],
      "metadata": {
        "id": "-GEC6wWACaZ1"
      }
    },
    {
      "cell_type": "markdown",
      "source": [
        "Подключим гугл диск"
      ],
      "metadata": {
        "id": "syUHw2HVkkmZ"
      }
    },
    {
      "cell_type": "code",
      "source": [
        "from google.colab import drive\n",
        "drive.mount('/content/drive')"
      ],
      "metadata": {
        "colab": {
          "base_uri": "https://localhost:8080/"
        },
        "id": "3YgB2RioPQeS",
        "outputId": "ebb9bb7c-6937-4fea-be91-041cb578299e"
      },
      "execution_count": null,
      "outputs": [
        {
          "output_type": "stream",
          "name": "stdout",
          "text": [
            "Mounted at /content/drive\n"
          ]
        }
      ]
    },
    {
      "cell_type": "markdown",
      "source": [
        "Разархивируем архив"
      ],
      "metadata": {
        "id": "zGJE7Hs6knJE"
      }
    },
    {
      "cell_type": "code",
      "source": [
        "!unzip -q \"/content/drive/MyDrive/Colab Notebooks/rosneft/train.zip\"\n",
        "!unzip -q \"/content/drive/MyDrive/Colab Notebooks/rosneft/test.zip\" -d \"/content/test/\""
      ],
      "metadata": {
        "id": "tu2wFR3DPpQF"
      },
      "execution_count": null,
      "outputs": []
    },
    {
      "cell_type": "markdown",
      "source": [
        "Импорт библиотек"
      ],
      "metadata": {
        "id": "FOIqlJFlkfRU"
      }
    },
    {
      "cell_type": "code",
      "execution_count": null,
      "metadata": {
        "id": "n0fGjp94xXoH"
      },
      "outputs": [],
      "source": [
        "import os\n",
        "import albumentations as A\n",
        "from albumentations.pytorch import ToTensor\n",
        "import tqdm\n",
        "import pandas as pd\n",
        "import numpy as np\n",
        "import cv2\n",
        "import matplotlib.pyplot as plt\n",
        "from sklearn.model_selection import KFold\n",
        "\n",
        "\n",
        "import torch\n",
        "import torch.nn as nn\n",
        "import torch.nn.functional as F\n",
        "from torch.utils.data import DataLoader\n",
        "from torch.autograd import Variable\n",
        "from torch.optim import Adam\n",
        "from torchvision.models import resnet34"
      ]
    },
    {
      "cell_type": "markdown",
      "source": [
        "Пропишем пути"
      ],
      "metadata": {
        "id": "7OLf8IkGkh4j"
      }
    },
    {
      "cell_type": "code",
      "execution_count": null,
      "metadata": {
        "id": "MGkx_d-A6D0_"
      },
      "outputs": [],
      "source": [
        "NUM_EPOCHS = 80\n",
        "\n",
        "IMAGE_PATH = '/content/stg2_train_images_new/'\n",
        "MASK_PATH = '/content/drive/MyDrive/Colab Notebooks/rosneft/train.csv'\n",
        "TEST_PATH = '/content/test/images_new/'\n",
        "SAMPLE_PATH = '/content/drive/MyDrive/Colab Notebooks/rosneft/submission.csv'\n",
        "device = torch.device('cuda')\n",
        "# device = torch.device('cpu')"
      ]
    },
    {
      "cell_type": "code",
      "source": [
        "csv_ = pd.read_csv(MASK_PATH)\n",
        "print(csv_.head())\n",
        "print(len(csv_))\n",
        "# print(csv_['ClassId'].max())\n",
        "# print(csv_['ClassId'].min())"
      ],
      "metadata": {
        "colab": {
          "base_uri": "https://localhost:8080/"
        },
        "id": "6hnjIGrWW6X3",
        "outputId": "3ab553bf-a83e-46f7-b727-283cee72a80f"
      },
      "execution_count": null,
      "outputs": [
        {
          "output_type": "stream",
          "name": "stdout",
          "text": [
            "           ImageId  ClassId                                      EncodedPixels\n",
            "0  inline_1400.png        0  95 94 479 94 863 94 1247 94 1631 94 2015 94 23...\n",
            "1  inline_1400.png        1  189 6 573 6 957 6 1341 6 1725 6 2109 6 2493 6 ...\n",
            "2  inline_1400.png        2  195 12 579 12 963 12 1347 12 1731 12 2115 12 2...\n",
            "3  inline_1400.png        3  207 1 591 1 975 1 1359 1 1743 1 2127 1 2511 1 ...\n",
            "4  inline_1400.png        4  208 15 592 15 976 15 1360 15 1744 15 2128 15 2...\n",
            "168\n"
          ]
        }
      ]
    },
    {
      "cell_type": "markdown",
      "source": [
        "# Model"
      ],
      "metadata": {
        "id": "n2QXaP1YB5AK"
      }
    },
    {
      "cell_type": "code",
      "source": [
        "# upsampling block\n",
        "class CDBlock(nn.Module):\n",
        "    def __init__(self, in_ch, out_ch, kernel=4, padding=1, stride=2):\n",
        "        super(CDBlock, self).__init__()\n",
        "        self.block = nn.Sequential(\n",
        "            nn.Conv2d(in_ch, out_ch, kernel_size=3, stride=1, padding=1, bias=False),\n",
        "            nn.BatchNorm2d(out_ch),\n",
        "            nn.LeakyReLU(0.2),\n",
        "            # nn.ConvTranspose2d(out_ch, out_ch, kernel_size=kernel, stride=stride, padding=padding, bias=False),\n",
        "            # nn.BatchNorm2d(out_ch),\n",
        "            # nn.LeakyReLU(0.2),\n",
        "        )\n",
        "        \n",
        "    def forward(self, x):\n",
        "        x = F.interpolate(x, scale_factor=2)\n",
        "        return self.block(x)\n",
        "\n",
        "\n",
        "# shape test\n",
        "# model = CDBlock(in_ch=64, out_ch=32)\n",
        "# x = torch.randn((8, 64, 192, 192))\n",
        "# print(model(x).shape)"
      ],
      "metadata": {
        "colab": {
          "base_uri": "https://localhost:8080/"
        },
        "id": "8yaxEGHcw0sO",
        "outputId": "f554c719-53c2-4d75-cb23-b2199aeaa001"
      },
      "execution_count": null,
      "outputs": [
        {
          "output_type": "stream",
          "name": "stdout",
          "text": [
            "torch.Size([8, 32, 384, 384])\n"
          ]
        }
      ]
    },
    {
      "cell_type": "code",
      "execution_count": null,
      "metadata": {
        "id": "fD9QiPB8xXoK",
        "colab": {
          "base_uri": "https://localhost:8080/"
        },
        "outputId": "a57b7d89-17e1-4c38-b2ba-00a62d2bc29a"
      },
      "outputs": [
        {
          "output_type": "stream",
          "name": "stdout",
          "text": [
            "torch.Size([8, 8, 384, 384])\n"
          ]
        }
      ],
      "source": [
        "# downsampling block\n",
        "class CBlock(nn.Module):\n",
        "    def __init__(self, in_ch, out_ch, stride=2):\n",
        "        super(CBlock, self).__init__()\n",
        "        self.block = nn.Sequential(\n",
        "            nn.Conv2d(in_ch, out_ch, kernel_size=3, stride=1, padding=1, bias=False),\n",
        "            nn.BatchNorm2d(out_ch),\n",
        "            nn.LeakyReLU(0.2),\n",
        "            nn.Conv2d(out_ch, out_ch, kernel_size=4, stride=stride, padding=1, bias=False),\n",
        "            nn.BatchNorm2d(out_ch),\n",
        "            nn.LeakyReLU(0.2),\n",
        "        )\n",
        "        \n",
        "    def forward(self, x):\n",
        "        return self.block(x)\n",
        "\n",
        "\n",
        "# upsampling block\n",
        "class CDBlock(nn.Module):\n",
        "    def __init__(self, in_ch, out_ch, kernel=4, padding=1, stride=2):\n",
        "        super(CDBlock, self).__init__()\n",
        "        self.block = nn.Sequential(\n",
        "            nn.Conv2d(in_ch, out_ch, kernel_size=3, stride=1, padding=1, bias=False),\n",
        "            nn.BatchNorm2d(out_ch),\n",
        "            nn.LeakyReLU(0.2),\n",
        "        )\n",
        "\n",
        "        self.pit = nn.Sequential(\n",
        "            nn.Conv2d(in_ch, out_ch, kernel_size=3, stride=1, padding=1, bias=False),\n",
        "            nn.BatchNorm2d(out_ch),\n",
        "            nn.LeakyReLU(0.2),\n",
        "            nn.ConvTranspose2d(out_ch, out_ch, kernel_size=kernel, stride=stride, padding=padding, bias=False),\n",
        "            nn.BatchNorm2d(out_ch),\n",
        "            nn.LeakyReLU(0.2),\n",
        "        )\n",
        "        \n",
        "    def forward(self, x):\n",
        "        if x.shape[-1] == 1:\n",
        "            return self.pit(x)\n",
        "        else:\n",
        "            x = F.interpolate(x, scale_factor=2)\n",
        "            return self.block(x)\n",
        "\n",
        "    \n",
        "class UnetSegmenter(nn.Module):\n",
        "    def __init__(self, d=64, num_classes=8):\n",
        "        super(UnetSegmenter, self).__init__()\n",
        "        # encoder\n",
        "        # input dim = 384x384\n",
        "        self.down1 = nn.Sequential(\n",
        "            nn.Conv2d(3, d, 4, 2, 1),\n",
        "            nn.LeakyReLU(0.2),\n",
        "        )\n",
        "        # 192x192\n",
        "        self.down2 = CBlock(d, d*2)\n",
        "        # 96x96\n",
        "        self.down3 = CBlock(d*2, d*4)\n",
        "        # 48x48\n",
        "        self.down4 = CBlock(d*4, d*8)\n",
        "        # 24x24\n",
        "        self.down5 = CBlock(d*8, d*8)\n",
        "        # 12x12\n",
        "        self.down6 = CBlock(d*8, d*8)\n",
        "        # 6x6\n",
        "        self.down7 = CBlock(d*8, d*8)\n",
        "        # 3x3\n",
        "        self.down8 = nn.Sequential(\n",
        "            nn.Conv2d(d*8, d*8, 4, 2, 1), nn.ReLU()\n",
        "        )\n",
        "\n",
        "        # decoder\n",
        "        # 1x1\n",
        "        self.up1 = CDBlock(d*8, d*8, kernel=3, padding=0)\n",
        "        # 3x3\n",
        "        self.up2 = CDBlock(d*8*2, d*8)\n",
        "        # 12x12\n",
        "        self.up3 = CDBlock(d*8*2, d*8)\n",
        "        # 24x24\n",
        "        self.up4 = CDBlock(d*8*2, d*8)\n",
        "        # 48x48\n",
        "        self.up5 = CDBlock(d*8*2, d*4)\n",
        "        # 96x96\n",
        "        self.up6 = CDBlock(d*4*2, d*2)\n",
        "        # 192x192\n",
        "        self.up7 = CDBlock(d*2*2, d)\n",
        "        # 384x384\n",
        "        self.up8 = nn.ConvTranspose2d(d*2, num_classes, 4, 2, 1) \n",
        "        \n",
        "    def forward(self, x):\n",
        "        # downsample\n",
        "        d1 = self.down1(x)\n",
        "        d2 = self.down2(d1)\n",
        "        d3 = self.down3(d2)\n",
        "        d4 = self.down4(d3)\n",
        "        d5 = self.down5(d4)\n",
        "        d6 = self.down6(d5)\n",
        "        d7 = self.down7(d6)\n",
        "        d8 = self.down8(d7)\n",
        "        \n",
        "        # upsample\n",
        "        u1 = self.up1(d8)\n",
        "        u2 = self.up2(torch.cat([u1, d7], 1))\n",
        "        u3 = self.up3(torch.cat([u2, d6], 1))\n",
        "        u4 = self.up4(torch.cat([u3, d5], 1))\n",
        "        u5 = self.up5(torch.cat([u4, d4], 1))\n",
        "        u6 = self.up6(torch.cat([u5, d3], 1))\n",
        "        u7 = self.up7(torch.cat([u6, d2], 1))\n",
        "        u8 = self.up8(torch.cat([u7, d1], 1))\n",
        "        \n",
        "        return u8\n",
        "\n",
        "\n",
        "# model shape test\n",
        "# x = torch.randn(8, 3, 384, 384)\n",
        "# model = UnetSegmenter()\n",
        "# print(model(x).shape)"
      ]
    },
    {
      "cell_type": "markdown",
      "source": [
        "# CrossEntropyLoss and MultiDice"
      ],
      "metadata": {
        "id": "CF0V5eXjByQN"
      }
    },
    {
      "cell_type": "code",
      "execution_count": null,
      "metadata": {
        "id": "cV2V-M7yxXoT"
      },
      "outputs": [],
      "source": [
        "# функция потерь\n",
        "class CrossEntropyLoss(nn.Module):\n",
        "    def __init__(self, weight=None, size_average=True):\n",
        "        super(CrossEntropyLoss, self).__init__()\n",
        "        self.loss = nn.CrossEntropyLoss(weight, size_average)\n",
        "\n",
        "    def forward(self, logits, targets):\n",
        "        targets = targets.type(torch.cuda.LongTensor)\n",
        "        return self.loss(logits, targets)\n",
        "\n",
        "\n",
        "# метрика MultiDice \n",
        "class MultiDice(nn.Module):\n",
        "    \"\"\"\n",
        "    Calculate Dice with averaging per classes and then per batch \n",
        "    \"\"\"\n",
        "    def __init__(self, num_classes=8):\n",
        "        super(MultiDice, self).__init__()\n",
        "        self.num_classes = num_classes\n",
        "\n",
        "    def forward(self, outputs, targets):\n",
        "        smooth = 1e-15\n",
        "        prediction = outputs.softmax(dim=1)\n",
        "        \n",
        "        dices = []\n",
        "        \n",
        "        for val in range(1, self.num_classes):\n",
        "            target = (targets == val).float().squeeze()\n",
        "            ch_pred = prediction[:, val]\n",
        "            intersection = torch.sum(ch_pred * target, dim=(1,2))\n",
        "            # вот тут поправил, а то у меня ломалось, если полный батч не набирается :)\n",
        "            # вроде ничего не сломал))\n",
        "            try:\n",
        "                union = torch.sum(ch_pred, dim=(1,2)) + torch.sum(target, dim=(1,2))   \n",
        "            except:\n",
        "                union = torch.sum(ch_pred) + torch.sum(target)\n",
        "            dice_part = (2 * intersection + smooth) / (union + smooth)\n",
        "        dices.append(dice_part.mean())\n",
        "        return torch.mean(dice_part)"
      ]
    },
    {
      "cell_type": "code",
      "execution_count": null,
      "metadata": {
        "id": "KS-1PBNxxXoW"
      },
      "outputs": [],
      "source": [
        "# перевод rle в маску\n",
        "def rle2mask(mask_rle, shape):\n",
        "    \"\"\"\n",
        "    mask_rle: run-length as string formated (start length)ы\n",
        "    shape: (width,height) of array to return\n",
        "    Returns numpy array, 1 - mask, 0 - background\n",
        "    \"\"\"\n",
        "    if mask_rle != mask_rle:\n",
        "        return np.zeros_like(shape)\n",
        "\n",
        "    s = mask_rle.split()\n",
        "    starts, lengths = [np.asarray(x, dtype=int) for x in (s[0:][::2], s[1:][::2])]\n",
        "    starts -= 1\n",
        "    ends = starts + lengths\n",
        "    img = np.zeros(shape[0]*shape[1], dtype=np.uint8)\n",
        "    for lo, hi in zip(starts, ends):\n",
        "        img[lo:hi] = 1\n",
        "    return img.reshape(shape).T"
      ]
    },
    {
      "cell_type": "markdown",
      "source": [
        "# Dataset"
      ],
      "metadata": {
        "id": "iPpfUJmCCHvA"
      }
    },
    {
      "cell_type": "code",
      "execution_count": null,
      "metadata": {
        "id": "fCAm6AJtxXon"
      },
      "outputs": [],
      "source": [
        "class TrainDataset():\n",
        "    def __init__(self, image_dir, train, transform):\n",
        "        self.image_dir = image_dir\n",
        "        self.train = train\n",
        "        self.transform = transform\n",
        "\n",
        "    def __getitem__(self, index):\n",
        "        # получили имя картинки по индексу\n",
        "        img_name = self.train.iloc[index]['ImageId']\n",
        "        \n",
        "        # считали картинку\n",
        "        path = os.path.join(self.image_dir, img_name)\n",
        "        img = cv2.imread(path)\n",
        "        \n",
        "        # перевод rle в маску картинки\n",
        "        ce_mask = [\n",
        "            (i + 1) * rle2mask(rle, shape=(img.shape[1], img.shape[0])) \\\n",
        "                for i, rle in enumerate(self.train[self.train['ImageId']==img_name]['EncodedPixels'])\n",
        "        ]\n",
        "        ce_mask = np.sum(ce_mask, axis=0, dtype=np.float32)\n",
        "\n",
        "        result = self.transform(\n",
        "            image=img, \n",
        "            mask=ce_mask\n",
        "        )\n",
        "        \n",
        "        result = {\n",
        "            'image': ToTensor()(image=result['image'])['image'], \n",
        "            'mask': torch.Tensor(result['mask'])\n",
        "        }\n",
        "        return result\n",
        "    \n",
        "    def __len__(self, ):\n",
        "        return len(self.train)\n",
        "    \n",
        "class TestDataset():\n",
        "    def __init__(self, image_dir, test, transform):\n",
        "        self.image_dir = image_dir\n",
        "        self.test = test\n",
        "        self.transform = transform\n",
        "\n",
        "    def __getitem__(self, index):\n",
        "        # получили имя картинки по индексу\n",
        "        img_name = self.test.iloc[index]['ImageId']\n",
        "        \n",
        "        # считали картинку\n",
        "        path = os.path.join(self.image_dir, img_name)\n",
        "        img = cv2.imread(path)\n",
        "\n",
        "        result = self.transform(\n",
        "            image=img, \n",
        "        )\n",
        "        \n",
        "        result = {\n",
        "            'image_name': img_name,\n",
        "            'image': ToTensor()(image=result['image'])['image'], \n",
        "        }\n",
        "        return result\n",
        "    \n",
        "    def __len__(self, ):\n",
        "        return len(self.test)"
      ]
    },
    {
      "cell_type": "markdown",
      "source": [
        "# Utils"
      ],
      "metadata": {
        "id": "fAnO2cSsCKSx"
      }
    },
    {
      "cell_type": "code",
      "source": [
        "# сохранение чекпойнта\n",
        "def save_checkpoint(model, optimizer, filename=\"my_checkpoint.pth.tar\"):\n",
        "    print(\"=> Saving checkpoint\")\n",
        "    checkpoint = {\n",
        "        \"state_dict\": model.state_dict(),\n",
        "        \"optimizer\": optimizer.state_dict(),\n",
        "    }\n",
        "    torch.save(checkpoint, filename)\n",
        "\n",
        "\n",
        "# загрузка чекпойнта\n",
        "def load_checkpoint(checkpoint_file, model, optimizer):\n",
        "    print(\"=> Loading checkpoint\")\n",
        "    checkpoint = torch.load(checkpoint_file, map_location=device)\n",
        "    model.load_state_dict(checkpoint[\"state_dict\"])\n",
        "    optimizer.load_state_dict(checkpoint[\"optimizer\"])\n",
        "\n",
        "\n",
        "# перевод маски в rle\n",
        "def mask2rle(img):\n",
        "    '''\n",
        "    img: numpy array, 1 - mask, 0 - background\n",
        "    Returns run length as string formated\n",
        "    '''\n",
        "    pixels = img.flatten()\n",
        "    pixels = np.concatenate([[0], pixels, [0]])\n",
        "    runs = np.where(pixels[1:] != pixels[:-1])[0] + 1\n",
        "    runs[1::2] -= runs[::2]\n",
        "    return ' '.join(str(x) for x in runs)\n",
        "\n",
        "\n",
        "# перевод выхода модели в rle\n",
        "def out2rle(outputs, i):\n",
        "    rles = []\n",
        "    im_names = []\n",
        "    classes = []\n",
        "    \n",
        "    smooth = 1e-15\n",
        "    prediction = outputs.detach().cpu().softmax(dim=1).numpy()\n",
        "\n",
        "    for j, sample in enumerate(prediction):\n",
        "        for val in range(1, 8):\n",
        "            ch_pred = sample[val]\n",
        "            shape = shapes[img_names[8*i+j]]\n",
        "            ch_pred = cv2.resize(ch_pred, (shape[1], shape[0]))\n",
        "            rles.append(mask2rle(ch_pred.T > 0.5))\n",
        "            classes.append(val-1)\n",
        "            im_names.append(img_names[8*i+j])\n",
        "    return im_names, classes, rles"
      ],
      "metadata": {
        "id": "AgYXRJkeHFGA"
      },
      "execution_count": null,
      "outputs": []
    },
    {
      "cell_type": "markdown",
      "source": [
        "Трансформы и обнуление весов (для фолдов)"
      ],
      "metadata": {
        "id": "HS3RTru1FaOr"
      }
    },
    {
      "cell_type": "code",
      "source": [
        "train_transforms = A.Compose([\n",
        "    A.Resize(384, 384),\n",
        "    A.HorizontalFlip(p=0.5),\n",
        "    A.Normalize(\n",
        "        mean=(0.485, 0.456, 0.406),\n",
        "        std=(0.229, 0.224, 0.225)),\n",
        "])\n",
        "\n",
        "valid_transforms = A.Compose([\n",
        "    A.Resize(384, 384),                      \n",
        "    A.Normalize(\n",
        "        mean=(0.485, 0.456, 0.406),\n",
        "        std=(0.229, 0.224, 0.225)),\n",
        "])\n",
        "\n",
        "def reset_weights(m):\n",
        "    '''\n",
        "      Try resetting model weights to avoid\n",
        "      weight leakage.\n",
        "    '''\n",
        "    for layer in m.children():\n",
        "        if hasattr(layer, 'reset_parameters'):\n",
        "            # print(f'Reset trainable parameters of layer = {layer}')\n",
        "            layer.reset_parameters()"
      ],
      "metadata": {
        "id": "GXzT1wXB1GKi"
      },
      "execution_count": null,
      "outputs": []
    },
    {
      "cell_type": "markdown",
      "source": [
        "# Train"
      ],
      "metadata": {
        "id": "tLY9e_piCNqA"
      }
    },
    {
      "cell_type": "code",
      "source": [
        "dataset = pd.read_csv(MASK_PATH)\n",
        "dataset = TrainDataset(\n",
        "    image_dir=IMAGE_PATH, \n",
        "    train=dataset, \n",
        "    transform=train_transforms\n",
        ")\n",
        "\n",
        "criterion = CrossEntropyLoss()\n",
        "metric = MultiDice()"
      ],
      "metadata": {
        "colab": {
          "base_uri": "https://localhost:8080/"
        },
        "id": "wjkx_JUS3eL-",
        "outputId": "97cc7fa7-0a65-45ea-ffa2-fc1f96d9e34a"
      },
      "execution_count": null,
      "outputs": [
        {
          "output_type": "stream",
          "name": "stderr",
          "text": [
            "/usr/local/lib/python3.7/dist-packages/torch/nn/_reduction.py:42: UserWarning: size_average and reduce args will be deprecated, please use reduction='mean' instead.\n",
            "  warnings.warn(warning.format(ret))\n"
          ]
        }
      ]
    },
    {
      "cell_type": "markdown",
      "source": [
        "## Folds"
      ],
      "metadata": {
        "id": "0M7Q6r1bCTE_"
      }
    },
    {
      "cell_type": "code",
      "execution_count": null,
      "metadata": {
        "id": "RfupS7eU-FNx",
        "scrolled": true
      },
      "outputs": [],
      "source": [
        "Folds_train_dices = []\n",
        "Folds_train_losses = []\n",
        "\n",
        "Folds_val_dices = []\n",
        "Folds_val_losses = []\n",
        "\n",
        "# Define the K-fold Cross Validator\n",
        "k_folds = 4\n",
        "kfold = KFold(n_splits=k_folds, shuffle=True)\n",
        "\n",
        "# K-fold Cross Validation model evaluation\n",
        "for fold, (train_ids, test_ids) in enumerate(kfold.split(dataset)):\n",
        "    \n",
        "    print(f'FOLD {fold}')\n",
        "    print('--------------------------------')\n",
        "    \n",
        "    # Sample elements randomly from a given list of ids, no replacement.\n",
        "    train_subsampler = torch.utils.data.SubsetRandomSampler(train_ids)\n",
        "    test_subsampler = torch.utils.data.SubsetRandomSampler(test_ids)\n",
        "    \n",
        "    # Define data loaders for training and testing data in this fold\n",
        "    train_loader = DataLoader(\n",
        "        dataset=dataset,\n",
        "        batch_size=8, \n",
        "        sampler=train_subsampler\n",
        "    )\n",
        "\n",
        "    valid_loader = DataLoader(\n",
        "        dataset=dataset,\n",
        "        batch_size=8,    \n",
        "        sampler=test_subsampler\n",
        "    )\n",
        "\n",
        "    # определим модель\n",
        "    model = UnetSegmenter()\n",
        "    model.apply(reset_weights)\n",
        "    model = nn.DataParallel(model).to(device)\n",
        "    optimizer = Adam(model.parameters(), lr=0.005)\n",
        "\n",
        "    all_train_DICE = []\n",
        "    all_train_losses = []\n",
        "\n",
        "    all_val_DICE = []\n",
        "    all_val_losses = []\n",
        "\n",
        "    # train and valid\n",
        "    for epoch in tqdm.tqdm_notebook(range(NUM_EPOCHS)):\n",
        "        \n",
        "        # train\n",
        "        model.train()\n",
        "        DICE_values = []\n",
        "        losses = []\n",
        "        for i, data in enumerate(train_loader):\n",
        "            inputs = Variable(data['image']).to(device)\n",
        "            masks = Variable(data['mask']).to(device)\n",
        "\n",
        "            optimizer.zero_grad()\n",
        "\n",
        "            outputs = model(inputs)\n",
        "            loss = criterion(outputs, masks)\n",
        "            metric_value = metric(outputs, masks) \n",
        "            \n",
        "            loss.backward()\n",
        "            optimizer.step()\n",
        "\n",
        "            DICE_values.append(metric_value.item())\n",
        "            losses.append(loss.item())\n",
        "\n",
        "        all_train_DICE.append(np.mean(DICE_values))\n",
        "        all_train_losses.append(np.mean(losses))\n",
        "            \n",
        "        # valid\n",
        "        model.eval()\n",
        "        DICE_values = []\n",
        "        losses = []\n",
        "        for i, data in enumerate(valid_loader):\n",
        "            inputs = Variable(data['image']).to(device)\n",
        "            masks = Variable(data['mask']).to(device)\n",
        "\n",
        "            outputs = model(inputs)\n",
        "            loss = criterion(outputs, masks)\n",
        "            metric_value = metric(outputs, masks) \n",
        "            \n",
        "            DICE_values.append(metric_value.item())\n",
        "            losses.append(loss.item())\n",
        "\n",
        "        all_val_DICE.append(np.mean(DICE_values))\n",
        "        all_val_losses.append(np.mean(losses))\n",
        "\n",
        "        # if (epoch+1)%5 == 0:\n",
        "        #     save_checkpoint(model, optimizer, f\"/content/drive/MyDrive/Colab Notebooks/rosneft/model_{fold}_{epoch}\")\n",
        "\n",
        "    Folds_train_dices.append(all_train_DICE)\n",
        "    Folds_train_losses.append(all_train_losses)\n",
        "    Folds_val_dices.append(all_val_DICE)\n",
        "    Folds_val_losses.append(all_val_losses)"
      ]
    },
    {
      "cell_type": "markdown",
      "source": [
        "## Folds visualization"
      ],
      "metadata": {
        "id": "Tgazp2kKCr0i"
      }
    },
    {
      "cell_type": "code",
      "source": [
        "plt.figure(figsize=(20, 14))\n",
        "for fold in range(k_folds):\n",
        "    # plt.plot(Folds_train_dices[fold], label=f'train fold {fold}')\n",
        "    plt.plot(Folds_val_dices[fold], label=f'val fold {fold}')\n",
        "plt.title = 'DICE'\n",
        "plt.legend(fontsize=20)\n",
        "plt.xlabel('epochs') \n",
        "plt.ylabel('value') \n",
        "plt.show()\n",
        "\n",
        "plt.figure(figsize=(20, 14))\n",
        "for fold in range(k_folds):\n",
        "    # plt.plot(Folds_train_losses[fold], label=f'train fold {fold}')\n",
        "    plt.plot(np.arange(10, NUM_EPOCHS, 1), Folds_val_losses[fold][10:], label=f'val fold {fold}')\n",
        "plt.title = 'Loss'\n",
        "plt.legend(fontsize=20)\n",
        "plt.xlabel('epochs') \n",
        "plt.ylabel('value') \n",
        "plt.show()"
      ],
      "metadata": {
        "colab": {
          "base_uri": "https://localhost:8080/",
          "height": 1000
        },
        "id": "K5ZYt3Q4jlw0",
        "outputId": "fe4bea51-dc33-4da1-ab8f-2fcf93f4327d"
      },
      "execution_count": null,
      "outputs": [
        {
          "output_type": "display_data",
          "data": {
            "image/png": "[encoded data removed]",
            "text/plain": [
              "<Figure size 1440x1008 with 1 Axes>"
            ]
          },
          "metadata": {
            "needs_background": "light"
          }
        },
        {
          "output_type": "display_data",
          "data": {
            "image/png": "[encoded data removed]",
            "text/plain": [
              "<Figure size 1440x1008 with 1 Axes>"
            ]
          },
          "metadata": {
            "needs_background": "light"
          }
        }
      ]
    },
    {
      "cell_type": "markdown",
      "source": [
        "# Train with whole dataset"
      ],
      "metadata": {
        "id": "MBgwwATSEiRw"
      }
    },
    {
      "cell_type": "markdown",
      "source": [
        "Попробуем просто обучить модель на всех данных на 80 эпох. Судя по фолдам, не сказать, что началось переобучение. Думаю, если обучать на столько же эпох с большим кол-вом данных переобучение тоже не произойдет :)"
      ],
      "metadata": {
        "id": "E8AXlQsPNCC_"
      }
    },
    {
      "cell_type": "code",
      "source": [
        "train_loader = DataLoader(\n",
        "        dataset=dataset,\n",
        "        batch_size=8, \n",
        "        shuffle=True\n",
        "    )\n",
        "\n",
        "# определим модель\n",
        "model = UnetSegmenter()\n",
        "model = nn.DataParallel(model).to(device)\n",
        "optimizer = Adam(model.parameters(), lr=0.005)"
      ],
      "metadata": {
        "id": "QIEnNUcJEmuL"
      },
      "execution_count": null,
      "outputs": []
    },
    {
      "cell_type": "code",
      "source": [
        "all_train_DICE = []\n",
        "all_train_losses = []\n",
        "\n",
        "# train\n",
        "for epoch in tqdm.tqdm_notebook(range(NUM_EPOCHS)):\n",
        "    \n",
        "    # train\n",
        "    model.train()\n",
        "    DICE_values = []\n",
        "    losses = []\n",
        "    for i, data in enumerate(train_loader):\n",
        "        inputs = Variable(data['image']).to(device)\n",
        "        masks = Variable(data['mask']).to(device)\n",
        "\n",
        "        optimizer.zero_grad()\n",
        "\n",
        "        outputs = model(inputs)\n",
        "        loss = criterion(outputs, masks)\n",
        "        metric_value = metric(outputs, masks) \n",
        "        \n",
        "        loss.backward()\n",
        "        optimizer.step()\n",
        "\n",
        "        DICE_values.append(metric_value.item())\n",
        "        losses.append(loss.item())\n",
        "\n",
        "    all_train_DICE.append(np.mean(DICE_values))\n",
        "    all_train_losses.append(np.mean(losses))\n",
        "\n",
        "    if (epoch+1)%10 == 0:\n",
        "        save_checkpoint(model, optimizer, f\"/content/drive/MyDrive/Colab Notebooks/rosneft/model_{epoch}\")"
      ],
      "metadata": {
        "colab": {
          "base_uri": "https://localhost:8080/",
          "height": 240,
          "referenced_widgets": [
            "0329a8b7c3ef44018bbed444bd45e092",
            "d1bc49a708764b01a13ca77ffe8d04be",
            "b066ef85d5f04d07ac834454894bfa20",
            "a5e443c4ad044a269b27822845627831",
            "7872caf89ea644e08038529f44fb9b31",
            "1b0724911e5b4698ad63a1810c2b0c35",
            "fddd7604053d4b4ab9dc0c82ac1f0c8f",
            "7cfa9bdf9b164203a2d01b58e44c1405",
            "d3c8db580cac461781706ead0552bc37",
            "b5a4b5dcdf00400b808d3da67618ec7d",
            "a19423137a674d84ac8418b3e90ed840"
          ]
        },
        "id": "4eWU4D_VhdB8",
        "outputId": "f94fc327-856a-483a-a7dc-7e43a63483a5"
      },
      "execution_count": null,
      "outputs": [
        {
          "output_type": "stream",
          "name": "stderr",
          "text": [
            "/usr/local/lib/python3.7/dist-packages/ipykernel_launcher.py:5: TqdmDeprecationWarning: This function will be removed in tqdm==5.0.0\n",
            "Please use `tqdm.notebook.tqdm` instead of `tqdm.tqdm_notebook`\n",
            "  \"\"\"\n"
          ]
        },
        {
          "output_type": "display_data",
          "data": {
            "application/vnd.jupyter.widget-view+json": {
              "model_id": "0329a8b7c3ef44018bbed444bd45e092",
              "version_minor": 0,
              "version_major": 2
            },
            "text/plain": [
              "  0%|          | 0/80 [00:00<?, ?it/s]"
            ]
          },
          "metadata": {}
        },
        {
          "output_type": "stream",
          "name": "stdout",
          "text": [
            "=> Saving checkpoint\n",
            "=> Saving checkpoint\n",
            "=> Saving checkpoint\n",
            "=> Saving checkpoint\n",
            "=> Saving checkpoint\n",
            "=> Saving checkpoint\n",
            "=> Saving checkpoint\n",
            "=> Saving checkpoint\n"
          ]
        }
      ]
    },
    {
      "cell_type": "markdown",
      "source": [
        "# Submission"
      ],
      "metadata": {
        "id": "eIrfMBvtC-Jh"
      }
    },
    {
      "cell_type": "code",
      "source": [
        "# load_checkpoint(\"/content/drive/MyDrive/Colab Notebooks/rosneft/model\", model, optimizer)"
      ],
      "metadata": {
        "id": "xOo4Ect8dG3P",
        "colab": {
          "base_uri": "https://localhost:8080/"
        },
        "outputId": "d34bbebb-e7ec-4a3b-bcbc-4ad2fd2281be"
      },
      "execution_count": null,
      "outputs": [
        {
          "output_type": "stream",
          "name": "stdout",
          "text": [
            "=> Loading checkpoint\n"
          ]
        }
      ]
    },
    {
      "cell_type": "code",
      "execution_count": null,
      "metadata": {
        "id": "W47tSYajyjZV"
      },
      "outputs": [],
      "source": [
        "# test = pd.read_csv(SAMPLE_PATH)\n",
        "# test_ids = test.drop_duplicates('ImageId')\n",
        "test = pd.DataFrame(columns=['ImageId', 'ClassId', 'EncodedPixels'])\n",
        "test['ImageId'] = list(os.listdir(TEST_PATH))\n",
        "test_ids = test['ImageId']"
      ]
    },
    {
      "cell_type": "code",
      "execution_count": null,
      "metadata": {
        "id": "eRClVBCOyjZX"
      },
      "outputs": [],
      "source": [
        "test_dataset = TestDataset(\n",
        "    image_dir=TEST_PATH, \n",
        "    test=test, \n",
        "    transform=valid_transforms\n",
        ")"
      ]
    },
    {
      "cell_type": "code",
      "execution_count": null,
      "metadata": {
        "id": "E1W1WRJ--L6g"
      },
      "outputs": [],
      "source": [
        "test_loader = DataLoader(\n",
        "    dataset=test_dataset,\n",
        "    batch_size=8,                \n",
        "    shuffle=False, \n",
        ")"
      ]
    },
    {
      "cell_type": "markdown",
      "source": [
        "Сделаем словарь (название картинки: размерность картинки), чтобы после предсказания можно было вернуть картинку в ее первоначальную размерность"
      ],
      "metadata": {
        "id": "Qs8L2Tj5k9xb"
      }
    },
    {
      "cell_type": "code",
      "execution_count": null,
      "metadata": {
        "id": "jWcnluvsag3C",
        "colab": {
          "base_uri": "https://localhost:8080/"
        },
        "outputId": "8fff76da-60ab-4832-bd26-c6a188c2a87b"
      },
      "outputs": [
        {
          "output_type": "stream",
          "name": "stdout",
          "text": [
            "{'xline_2338.png': (384, 847), 'inline_3108.png': (384, 1352), 'inline_3632.png': (384, 425), 'xline_2346.png': (384, 847), 'inline_2049.png': (384, 1066), 'inline_1724.png': (384, 1040), 'xline_1795.png': (384, 1551), 'inline_1508.png': (384, 768), 'inline_3225.png': (384, 968), 'inline_995.png': (384, 672), 'inline_2503.png': (384, 1656), 'xline_1462.png': (384, 1888), 'xline_568.png': (384, 760), 'inline_3568.png': (384, 936), 'inline_3009.png': (384, 1512), 'inline_2658.png': (384, 1608), 'inline_3030.png': (384, 1504), 'inline_1275.png': (384, 768), 'inline_1750.png': (384, 1040), 'inline_1530.png': (384, 768), 'xline_648.png': (384, 1042), 'inline_2099.png': (384, 1128), 'inline_3064.png': (384, 1496), 'inline_2819.png': (384, 1560), 'inline_3483.png': (384, 968), 'xline_1917.png': (384, 1519), 'inline_1153.png': (384, 768), 'inline_1880.png': (384, 1024), 'xline_1114.png': (384, 2710), 'xline_729.png': (384, 1590), 'xline_1880.png': (384, 1527), 'inline_1143.png': (384, 768), 'inline_3407.png': (384, 968), 'xline_607.png': (384, 886), 'inline_3312.png': (384, 968), 'inline_2276.png': (384, 1495), 'xline_1922.png': (384, 1511), 'inline_1828.png': (384, 1032), 'xline_1001.png': (384, 2226), 'inline_1253.png': (384, 768), 'inline_1647.png': (384, 768), 'inline_1712.png': (384, 1088), 'xline_1405.png': (384, 1888), 'inline_1100.png': (384, 880), 'xline_1493.png': (384, 1888), 'inline_3479.png': (384, 968), 'inline_3636.png': (384, 425), 'xline_1617.png': (384, 1623), 'inline_2719.png': (384, 1592), 'xline_2075.png': (384, 943), 'inline_2841.png': (384, 1560), 'inline_2879.png': (384, 1544), 'xline_2167.png': (384, 903), 'xline_2036.png': (384, 949), 'inline_3500.png': (384, 968), 'inline_2249.png': (384, 1453), 'inline_1295.png': (384, 768), 'inline_2202.png': (384, 1328), 'inline_2183.png': (384, 1288), 'inline_2627.png': (384, 1616), 'xline_1713.png': (384, 1599), 'inline_2155.png': (384, 1272), 'xline_2186.png': (384, 871), 'inline_1850.png': (384, 1024), 'xline_2058.png': (384, 949), 'inline_1713.png': (384, 1040), 'inline_1913.png': (384, 1008), 'inline_2275.png': (384, 1495), 'inline_1365.png': (384, 768), 'inline_3088.png': (384, 1352), 'xline_1860.png': (384, 1535), 'xline_1105.png': (384, 2710), 'inline_1487.png': (384, 768), 'inline_963.png': (384, 672), 'inline_1872.png': (384, 1024), 'inline_3021.png': (384, 1512), 'inline_2353.png': (384, 1696), 'inline_1513.png': (384, 768), 'xline_985.png': (384, 2226), 'inline_3098.png': (384, 1352), 'xline_1386.png': (384, 1888), 'inline_3065.png': (384, 1496), 'xline_1120.png': (384, 2710), 'xline_1960.png': (384, 1487), 'inline_1832.png': (384, 1032), 'inline_3529.png': (384, 952), 'inline_2698.png': (384, 1600), 'inline_3377.png': (384, 968), 'xline_2145.png': (384, 903), 'inline_3019.png': (384, 1512), 'inline_2430.png': (384, 1672), 'inline_2795.png': (384, 1568), 'inline_3046.png': (384, 1504), 'inline_2259.png': (384, 1503), 'inline_1363.png': (384, 768), 'inline_1301.png': (384, 768), 'inline_961.png': (384, 672), 'inline_3405.png': (384, 968), 'inline_3526.png': (384, 960), 'xline_1043.png': (384, 2226), 'inline_1261.png': (384, 768), 'inline_3161.png': (384, 968), 'inline_2971.png': (384, 1520), 'xline_896.png': (384, 2166), 'inline_2473.png': (384, 1664), 'inline_3360.png': (384, 968), 'xline_920.png': (384, 2226), 'xline_1702.png': (384, 1607), 'inline_1209.png': (384, 768), 'xline_2038.png': (384, 949), 'inline_3265.png': (384, 968), 'inline_1551.png': (384, 768), 'xline_1604.png': (384, 1623), 'xline_1003.png': (384, 2226), 'xline_1119.png': (384, 2710), 'inline_3018.png': (384, 1512), 'xline_1055.png': (384, 2662), 'xline_1137.png': (384, 2710), 'inline_1486.png': (384, 768), 'xline_979.png': (384, 2226), 'inline_3603.png': (384, 425), 'xline_1199.png': (384, 2710), 'xline_2395.png': (384, 832), 'inline_3537.png': (384, 952), 'xline_2218.png': (384, 871), 'xline_1818.png': (384, 1543), 'xline_792.png': (384, 1788), 'xline_2222.png': (384, 871), 'inline_1939.png': (384, 1000), 'xline_2009.png': (384, 1461), 'inline_2441.png': (384, 1672), 'xline_1555.png': (384, 1888), 'xline_2303.png': (384, 871), 'xline_1615.png': (384, 1623), 'inline_1323.png': (384, 768), 'xline_2107.png': (384, 935), 'inline_2406.png': (384, 1680), 'xline_680.png': (384, 1150), 'xline_1148.png': (384, 2710), 'xline_938.png': (384, 2226), 'inline_1309.png': (384, 768), 'inline_2942.png': (384, 1528), 'inline_2333.png': (384, 1696), 'xline_2228.png': (384, 871), 'inline_1002.png': (384, 672), 'inline_2390.png': (384, 1680), 'inline_3314.png': (384, 968), 'inline_2313.png': (384, 1656), 'xline_1717.png': (384, 1591), 'inline_2705.png': (384, 1600), 'xline_2050.png': (384, 949), 'inline_1455.png': (384, 768), 'xline_1775.png': (384, 1567), 'xline_1675.png': (384, 1623), 'inline_2206.png': (384, 1328), 'inline_3533.png': (384, 952), 'inline_2164.png': (384, 1288), 'inline_2801.png': (384, 1568), 'inline_2697.png': (384, 1600), 'inline_1384.png': (384, 768), 'xline_1681.png': (384, 1623), 'inline_1430.png': (384, 768), 'inline_2194.png': (384, 1328), 'inline_1800.png': (384, 1040), 'inline_2582.png': (384, 1632), 'inline_1873.png': (384, 1024), 'inline_2030.png': (384, 976), 'xline_2118.png': (384, 935), 'inline_2944.png': (384, 1528), 'xline_1782.png': (384, 1567), 'inline_1398.png': (384, 768), 'xline_820.png': (384, 1902), 'inline_2348.png': (384, 1696), 'inline_2107.png': (384, 1144), 'inline_2332.png': (384, 1696), 'inline_1898.png': (384, 1016), 'inline_3423.png': (384, 968), 'inline_1097.png': (384, 880), 'xline_1829.png': (384, 1543), 'xline_1754.png': (384, 1575), 'inline_2884.png': (384, 1544), 'inline_1287.png': (384, 768), 'inline_1195.png': (384, 768), 'inline_2898.png': (384, 1544), 'xline_2271.png': (384, 871), 'inline_3634.png': (384, 425), 'xline_704.png': (384, 1239), 'inline_3501.png': (384, 968), 'xline_1446.png': (384, 1888), 'inline_3386.png': (384, 968), 'xline_544.png': (384, 624), 'inline_3306.png': (384, 968), 'xline_614.png': (384, 922), 'xline_1856.png': (384, 1535), 'inline_1936.png': (384, 1000), 'inline_1101.png': (384, 880), 'xline_2164.png': (384, 903), 'inline_922.png': (384, 672), 'inline_2552.png': (384, 1640), 'xline_2257.png': (384, 871), 'xline_529.png': (384, 624), 'inline_1818.png': (384, 1032), 'xline_1977.png': (384, 1487), 'xline_1803.png': (384, 1551), 'inline_3488.png': (384, 968), 'inline_3447.png': (384, 968), 'xline_2258.png': (384, 871), 'xline_872.png': (384, 2076), 'xline_1064.png': (384, 2670), 'inline_1057.png': (384, 672), 'inline_2945.png': (384, 1528), 'xline_1592.png': (384, 1984), 'xline_1759.png': (384, 1575), 'inline_3493.png': (384, 968), 'inline_2918.png': (384, 1536), 'inline_2916.png': (384, 1536), 'inline_1540.png': (384, 768), 'xline_1839.png': (384, 1543), 'xline_1729.png': (384, 1591), 'xline_978.png': (384, 2226), 'xline_1021.png': (384, 2226), 'xline_1743.png': (384, 1575), 'xline_2201.png': (384, 871), 'xline_1749.png': (384, 1575), 'inline_2831.png': (384, 1560), 'inline_2926.png': (384, 1536), 'inline_1789.png': (384, 1040), 'inline_1781.png': (384, 1040), 'xline_2185.png': (384, 871), 'xline_1107.png': (384, 2710), 'inline_1597.png': (384, 768), 'inline_3499.png': (384, 968), 'inline_2956.png': (384, 1528), 'inline_2324.png': (384, 1663), 'xline_1874.png': (384, 1527), 'inline_2664.png': (384, 1608), 'inline_1766.png': (384, 1040), 'inline_2217.png': (384, 1432), 'inline_2607.png': (384, 1624), 'inline_1725.png': (384, 1040), 'xline_2144.png': (384, 903), 'xline_1520.png': (384, 1888), 'inline_1876.png': (384, 1024), 'inline_3258.png': (384, 968), 'inline_1709.png': (384, 1088), 'inline_3338.png': (384, 968), 'xline_939.png': (384, 2226), 'xline_1161.png': (384, 2710), 'xline_1543.png': (384, 1888), 'inline_3239.png': (384, 968), 'inline_2261.png': (384, 1503), 'inline_1009.png': (384, 672), 'xline_1645.png': (384, 1623), 'inline_1536.png': (384, 768), 'xline_1067.png': (384, 2686), 'xline_2039.png': (384, 949), 'xline_1902.png': (384, 1519), 'inline_1498.png': (384, 768), 'inline_1678.png': (384, 768), 'inline_1967.png': (384, 992), 'xline_2319.png': (384, 856), 'inline_3490.png': (384, 968), 'xline_555.png': (384, 724), 'xline_2248.png': (384, 871), 'xline_2231.png': (384, 871), 'inline_2972.png': (384, 1520), 'inline_3410.png': (384, 968), 'xline_634.png': (384, 1012), 'inline_3214.png': (384, 968), 'xline_2073.png': (384, 943), 'xline_746.png': (384, 1650), 'inline_2830.png': (384, 1560), 'inline_2534.png': (384, 1648), 'inline_1957.png': (384, 992), 'inline_3014.png': (384, 1512), 'inline_1366.png': (384, 768), 'xline_1458.png': (384, 1888), 'xline_1995.png': (384, 1461), 'xline_1017.png': (384, 2226), 'inline_3664.png': (384, 425), 'inline_2158.png': (384, 1272), 'inline_3391.png': (384, 968), 'xline_1158.png': (384, 2710), 'inline_1966.png': (384, 992), 'inline_1168.png': (384, 768), 'xline_1164.png': (384, 2710), 'inline_2471.png': (384, 1664), 'inline_2371.png': (384, 1688), 'inline_2457.png': (384, 1664), 'inline_1006.png': (384, 672), 'inline_1770.png': (384, 1040), 'inline_2532.png': (384, 1648), 'xline_1864.png': (384, 1535), 'xline_1728.png': (384, 1591), 'xline_2385.png': (384, 832), 'inline_2759.png': (384, 1584), 'inline_2837.png': (384, 1560), 'inline_1710.png': (384, 1088), 'inline_2814.png': (384, 1568), 'xline_511.png': (384, 624), 'inline_1453.png': (384, 768), 'xline_665.png': (384, 1120), 'xline_1225.png': (384, 2710), 'xline_2086.png': (384, 943), 'inline_1871.png': (384, 1024), 'inline_945.png': (384, 672), 'xline_1167.png': (384, 2710), 'inline_2495.png': (384, 1656), 'inline_1681.png': (384, 1056), 'inline_2298.png': (384, 1616), 'inline_3267.png': (384, 968), 'xline_1113.png': (384, 2710), 'inline_1593.png': (384, 768), 'inline_3329.png': (384, 968), 'inline_1590.png': (384, 768), 'xline_2207.png': (384, 871), 'inline_3440.png': (384, 968), 'inline_3641.png': (384, 425), 'inline_1887.png': (384, 1016), 'xline_1620.png': (384, 1623), 'inline_2797.png': (384, 1568), 'xline_1069.png': (384, 2686), 'xline_2098.png': (384, 943), 'inline_928.png': (384, 672), 'inline_2828.png': (384, 1560), 'xline_1554.png': (384, 1888), 'inline_2044.png': (384, 976), 'inline_3541.png': (384, 952), 'inline_1046.png': (384, 672), 'inline_964.png': (384, 672), 'inline_2024.png': (384, 976), 'inline_942.png': (384, 672), 'xline_2099.png': (384, 943), 'inline_1128.png': (384, 768), 'inline_2487.png': (384, 1656), 'inline_3266.png': (384, 968), 'inline_2358.png': (384, 1696), 'inline_3374.png': (384, 968), 'inline_2708.png': (384, 1592), 'inline_3190.png': (384, 968), 'xline_960.png': (384, 2226), 'inline_1774.png': (384, 1040), 'inline_2586.png': (384, 1632), 'inline_1367.png': (384, 768), 'xline_2364.png': (384, 832), 'xline_1709.png': (384, 1607), 'inline_2603.png': (384, 1624), 'inline_2494.png': (384, 1656), 'xline_1219.png': (384, 2710), 'xline_2400.png': (384, 832), 'inline_2822.png': (384, 1560), 'inline_1284.png': (384, 768), 'inline_2747.png': (384, 1584), 'inline_2410.png': (384, 1680), 'xline_2206.png': (384, 871), 'inline_2055.png': (384, 1058), 'xline_1584.png': (384, 1882), 'inline_1895.png': (384, 1016), 'inline_2758.png': (384, 1584), 'inline_3191.png': (384, 968), 'inline_2172.png': (384, 1288), 'xline_604.png': (384, 886), 'inline_1340.png': (384, 768), 'inline_1616.png': (384, 768), 'inline_947.png': (384, 672), 'inline_1574.png': (384, 768), 'xline_1550.png': (384, 1888), 'inline_3116.png': (384, 1352), 'inline_1005.png': (384, 672), 'inline_1338.png': (384, 768), 'xline_773.png': (384, 1734), 'xline_1230.png': (384, 2710), 'inline_983.png': (384, 672), 'inline_1985.png': (384, 984), 'inline_2128.png': (384, 1176), 'xline_578.png': (384, 820), 'xline_888.png': (384, 2136), 'inline_2562.png': (384, 1640), 'inline_1494.png': (384, 768), 'xline_624.png': (384, 964), 'inline_1111.png': (384, 880), 'inline_1230.png': (384, 768), 'inline_1796.png': (384, 1040), 'xline_1421.png': (384, 1888), 'inline_1200.png': (384, 768), 'inline_2316.png': (384, 1656), 'inline_3347.png': (384, 968), 'xline_1996.png': (384, 1461), 'inline_3348.png': (384, 968), 'inline_1267.png': (384, 768), 'inline_2605.png': (384, 1624), 'inline_3307.png': (384, 968), 'inline_3563.png': (384, 936), 'xline_2015.png': (384, 1461), 'xline_1254.png': (384, 2710), 'inline_2577.png': (384, 1632), 'xline_787.png': (384, 1788), 'xline_2230.png': (384, 871), 'xline_2392.png': (384, 832), 'xline_2232.png': (384, 871), 'inline_2287.png': (384, 1495), 'xline_1665.png': (384, 1623), 'inline_2373.png': (384, 1688), 'xline_2128.png': (384, 935), 'inline_1066.png': (384, 672), 'inline_3466.png': (384, 968), 'inline_3631.png': (384, 425), 'inline_924.png': (384, 672), 'inline_2529.png': (384, 1648), 'inline_1654.png': (384, 768), 'inline_2214.png': (384, 1400), 'xline_627.png': (384, 988), 'inline_2012.png': (384, 976), 'xline_1501.png': (384, 1888), 'inline_2279.png': (384, 1495), 'xline_1538.png': (384, 1888), 'xline_2071.png': (384, 949), 'xline_1647.png': (384, 1623), 'inline_1419.png': (384, 768), 'inline_3060.png': (384, 1496), 'inline_1096.png': (384, 880), 'inline_2728.png': (384, 1592), 'xline_2237.png': (384, 871), 'inline_2583.png': (384, 1632), 'inline_2021.png': (384, 976), 'inline_2804.png': (384, 1568), 'inline_2244.png': (384, 1453), 'xline_645.png': (384, 1042), 'xline_1763.png': (384, 1567), 'xline_1887.png': (384, 1527), 'xline_1888.png': (384, 1527), 'inline_1739.png': (384, 1040), 'inline_2550.png': (384, 1640), 'inline_2994.png': (384, 1520), 'inline_1361.png': (384, 768), 'xline_2279.png': (384, 871), 'xline_2286.png': (384, 871), 'inline_1412.png': (384, 768), 'xline_2046.png': (384, 949), 'xline_2305.png': (384, 856), 'inline_3413.png': (384, 968), 'inline_1054.png': (384, 672), 'inline_1351.png': (384, 768), 'inline_1805.png': (384, 1040), 'inline_2321.png': (384, 1663), 'xline_998.png': (384, 2226), 'inline_2010.png': (384, 984), 'inline_1013.png': (384, 672), 'xline_1238.png': (384, 2710), 'inline_1853.png': (384, 1024), 'inline_2929.png': (384, 1536), 'inline_2433.png': (384, 1672), 'inline_1155.png': (384, 768), 'inline_1912.png': (384, 1008), 'xline_1680.png': (384, 1623), 'xline_856.png': (384, 2016), 'inline_2310.png': (384, 1639), 'inline_2465.png': (384, 1664), 'xline_1229.png': (384, 2710), 'xline_2357.png': (384, 840), 'inline_2903.png': (384, 1544), 'inline_2579.png': (384, 1632), 'inline_1613.png': (384, 768), 'inline_1961.png': (384, 992), 'inline_1595.png': (384, 768), 'inline_1294.png': (384, 768), 'inline_874.png': (384, 672), 'xline_893.png': (384, 2166), 'xline_1821.png': (384, 1543), 'inline_3521.png': (384, 960), 'xline_673.png': (384, 1150), 'inline_2199.png': (384, 1328), 'inline_1745.png': (384, 1040), 'inline_3016.png': (384, 1512), 'xline_1150.png': (384, 2710), 'inline_2914.png': (384, 1536), 'xline_2224.png': (384, 871), 'xline_799.png': (384, 1818), 'xline_517.png': (384, 624), 'inline_1397.png': (384, 768), 'xline_1830.png': (384, 1543), 'xline_1726.png': (384, 1591), 'xline_1195.png': (384, 2710), 'xline_512.png': (384, 624), 'inline_3167.png': (384, 968), 'xline_1794.png': (384, 1551), 'xline_1457.png': (384, 1888), 'inline_2388.png': (384, 1688), 'xline_760.png': (384, 1680), 'xline_1159.png': (384, 2710), 'inline_1236.png': (384, 768), 'xline_1134.png': (384, 2710), 'xline_1492.png': (384, 1888), 'xline_580.png': (384, 820), 'xline_1895.png': (384, 1527), 'inline_1700.png': (384, 1088), 'inline_1479.png': (384, 768), 'inline_2611.png': (384, 1624), 'xline_2085.png': (384, 943), 'inline_1258.png': (384, 768), 'inline_1031.png': (384, 672), 'inline_1091.png': (384, 880), 'xline_1432.png': (384, 1888), 'inline_3618.png': (384, 425), 'xline_1407.png': (384, 1888), 'inline_2446.png': (384, 1672), 'xline_1406.png': (384, 1888), 'inline_1823.png': (384, 1032), 'inline_2447.png': (384, 1672), 'xline_599.png': (384, 862), 'inline_3141.png': (384, 1352), 'inline_3023.png': (384, 1512), 'xline_547.png': (384, 624), 'inline_1570.png': (384, 768), 'xline_1445.png': (384, 1888), 'inline_1545.png': (384, 768), 'xline_1182.png': (384, 2710), 'inline_1206.png': (384, 768), 'inline_2248.png': (384, 1453), 'inline_3295.png': (384, 968), 'inline_3035.png': (384, 1504), 'inline_2436.png': (384, 1672), 'xline_2375.png': (384, 832), 'xline_644.png': (384, 1042), 'inline_1127.png': (384, 768), 'xline_2292.png': (384, 871), 'inline_2218.png': (384, 1432), 'inline_1500.png': (384, 768), 'inline_1757.png': (384, 1040), 'xline_2365.png': (384, 832), 'inline_2614.png': (384, 1624), 'inline_3275.png': (384, 968), 'xline_821.png': (384, 1902), 'xline_1986.png': (384, 1487), 'xline_1448.png': (384, 1888), 'inline_2910.png': (384, 1536), 'xline_879.png': (384, 2106), 'xline_696.png': (384, 1210), 'xline_550.png': (384, 624), 'inline_1806.png': (384, 1040), 'inline_2838.png': (384, 1560), 'inline_918.png': (384, 672), 'inline_2425.png': (384, 1672), 'xline_1214.png': (384, 2710), 'inline_2090.png': (384, 1104), 'inline_2904.png': (384, 1544), 'xline_915.png': (384, 2226), 'inline_3143.png': (384, 1352), 'inline_3186.png': (384, 968), 'xline_1178.png': (384, 2710), 'inline_2144.png': (384, 1224), 'xline_1552.png': (384, 1888), 'inline_2563.png': (384, 1640), 'inline_939.png': (384, 672), 'inline_3547.png': (384, 944), 'xline_661.png': (384, 1096), 'inline_3354.png': (384, 968), 'inline_3033.png': (384, 1504), 'xline_770.png': (384, 1734), 'inline_1765.png': (384, 1040), 'xline_943.png': (384, 2226), 'xline_766.png': (384, 1710), 'inline_1525.png': (384, 768), 'inline_3589.png': (384, 425), 'inline_893.png': (384, 672), 'inline_3554.png': (384, 936), 'xline_1609.png': (384, 1623), 'inline_2365.png': (384, 1688), 'inline_2975.png': (384, 1520), 'inline_3048.png': (384, 1504), 'inline_2250.png': (384, 1453), 'xline_1894.png': (384, 1527), 'xline_2007.png': (384, 1461), 'inline_3073.png': (384, 1496), 'inline_901.png': (384, 672), 'xline_2349.png': (384, 847), 'inline_3625.png': (384, 425), 'inline_2764.png': (384, 1576), 'xline_2291.png': (384, 871), 'inline_2988.png': (384, 1520), 'xline_1200.png': (384, 2710), 'xline_2221.png': (384, 871), 'inline_3008.png': (384, 1512), 'inline_2787.png': (384, 1568), 'xline_1815.png': (384, 1551), 'xline_1526.png': (384, 1888), 'inline_2848.png': (384, 1552), 'inline_3582.png': (384, 425), 'inline_2979.png': (384, 1520), 'inline_2710.png': (384, 1592), 'inline_1569.png': (384, 768), 'inline_3222.png': (384, 968), 'xline_1746.png': (384, 1575), 'inline_1492.png': (384, 768), 'xline_1398.png': (384, 1888), 'inline_3430.png': (384, 968), 'xline_1865.png': (384, 1535), 'inline_2458.png': (384, 1664), 'inline_2311.png': (384, 1639), 'inline_2170.png': (384, 1288), 'inline_1197.png': (384, 768), 'inline_3344.png': (384, 968), 'inline_1051.png': (384, 672), 'xline_2180.png': (384, 903), 'inline_2384.png': (384, 1688), 'inline_1990.png': (384, 984), 'xline_1221.png': (384, 2710), 'inline_3061.png': (384, 1496), 'inline_1510.png': (384, 768), 'inline_2005.png': (384, 984), 'xline_587.png': (384, 844), 'inline_3442.png': (384, 968), 'xline_630.png': (384, 988), 'inline_3376.png': (384, 968), 'inline_3109.png': (384, 1352), 'inline_2785.png': (384, 1568), 'inline_2606.png': (384, 1624), 'inline_1336.png': (384, 768), 'inline_1276.png': (384, 768), 'xline_592.png': (384, 844), 'inline_3210.png': (384, 968), 'xline_2033.png': (384, 949), 'inline_3591.png': (384, 425), 'inline_2283.png': (384, 1495), 'inline_3561.png': (384, 936), 'inline_2724.png': (384, 1592), 'inline_3592.png': (384, 425), 'xline_2312.png': (384, 856), 'xline_947.png': (384, 2226), 'xline_628.png': (384, 988), 'inline_972.png': (384, 672), 'inline_3212.png': (384, 968), 'inline_2523.png': (384, 1648), 'inline_2859.png': (384, 1552), 'inline_2820.png': (384, 1560), 'xline_963.png': (384, 2226), 'inline_896.png': (384, 672), 'xline_1572.png': (384, 1882), 'inline_2576.png': (384, 1632), 'inline_2252.png': (384, 1453), 'xline_2139.png': (384, 903), 'xline_1176.png': (384, 2710), 'inline_1084.png': (384, 672), 'xline_725.png': (384, 1560), 'inline_3573.png': (384, 425), 'xline_2133.png': (384, 935), 'xline_722.png': (384, 1560), 'inline_1071.png': (384, 672), 'xline_2378.png': (384, 832), 'inline_3135.png': (384, 1352), 'inline_1244.png': (384, 768), 'inline_1934.png': (384, 1000), 'inline_3337.png': (384, 968), 'xline_2262.png': (384, 871), 'xline_1110.png': (384, 2710), 'inline_1069.png': (384, 672), 'inline_2027.png': (384, 976), 'inline_1113.png': (384, 880), 'xline_2023.png': (384, 949), 'inline_1785.png': (384, 1040), 'xline_2109.png': (384, 935), 'inline_1348.png': (384, 768), 'inline_1187.png': (384, 768), 'inline_1928.png': (384, 1008), 'inline_3584.png': (384, 425), 'inline_3596.png': (384, 425), 'inline_3620.png': (384, 425), 'inline_3148.png': (384, 1352), 'inline_3462.png': (384, 968), 'xline_1721.png': (384, 1591), 'xline_922.png': (384, 2226), 'inline_2381.png': (384, 1688), 'inline_1626.png': (384, 768), 'inline_862.png': (384, 672), 'xline_1667.png': (384, 1623), 'xline_586.png': (384, 844), 'inline_2619.png': (384, 1616), 'inline_1922.png': (384, 1008), 'inline_1334.png': (384, 768), 'inline_3175.png': (384, 968), 'xline_1097.png': (384, 2710), 'inline_3017.png': (384, 1512), 'inline_2899.png': (384, 1544), 'inline_3356.png': (384, 968), 'inline_1049.png': (384, 672), 'inline_2409.png': (384, 1680), 'inline_2823.png': (384, 1560), 'inline_1022.png': (384, 672), 'inline_1572.png': (384, 768), 'inline_2902.png': (384, 1544), 'inline_3063.png': (384, 1496), 'inline_2644.png': (384, 1616), 'xline_2163.png': (384, 903), 'inline_3176.png': (384, 968), 'inline_2212.png': (384, 1400), 'xline_1765.png': (384, 1567), 'xline_1741.png': (384, 1575), 'inline_2424.png': (384, 1672), 'inline_2689.png': (384, 1600), 'xline_667.png': (384, 1120), 'inline_1964.png': (384, 992), 'xline_1762.png': (384, 1567), 'inline_2264.png': (384, 1503), 'inline_3106.png': (384, 1352), 'inline_1165.png': (384, 768), 'inline_3564.png': (384, 936), 'inline_3424.png': (384, 968), 'xline_1197.png': (384, 2710), 'xline_1602.png': (384, 1623), 'inline_3609.png': (384, 425), 'xline_1086.png': (384, 2710), 'xline_1901.png': (384, 1519), 'xline_1250.png': (384, 2710), 'inline_1217.png': (384, 768), 'xline_782.png': (384, 1758), 'xline_1177.png': (384, 2710), 'inline_1437.png': (384, 768), 'xline_2335.png': (384, 856), 'xline_1925.png': (384, 1511), 'inline_3269.png': (384, 968), 'inline_2237.png': (384, 1461), 'xline_560.png': (384, 724), 'xline_1189.png': (384, 2710), 'inline_2618.png': (384, 1616), 'inline_3626.png': (384, 425), 'inline_3388.png': (384, 968), 'xline_1264.png': (384, 2710), 'inline_3254.png': (384, 968), 'inline_3333.png': (384, 968), 'inline_1980.png': (384, 984), 'inline_2167.png': (384, 1288), 'inline_3486.png': (384, 968), 'inline_3464.png': (384, 968), 'inline_1424.png': (384, 768), 'inline_3515.png': (384, 968), 'inline_2328.png': (384, 1696), 'xline_631.png': (384, 988), 'xline_2052.png': (384, 949), 'xline_992.png': (384, 2226), 'inline_3163.png': (384, 968), 'xline_816.png': (384, 1878), 'inline_2808.png': (384, 1568), 'inline_2595.png': (384, 1624), 'xline_1866.png': (384, 1535), 'xline_1745.png': (384, 1575), 'xline_1603.png': (384, 1623), 'inline_1425.png': (384, 768), 'inline_2317.png': (384, 1656), 'xline_877.png': (384, 2106), 'inline_3427.png': (384, 968), 'xline_1982.png': (384, 1487), 'inline_3383.png': (384, 968), 'xline_870.png': (384, 2076), 'xline_657.png': (384, 1096), 'inline_1260.png': (384, 768), 'xline_1819.png': (384, 1543), 'xline_999.png': (384, 2226), 'inline_1519.png': (384, 768), 'inline_1497.png': (384, 768), 'inline_1090.png': (384, 880), 'inline_2408.png': (384, 1680), 'inline_3623.png': (384, 425), 'inline_2435.png': (384, 1672), 'inline_2986.png': (384, 1520), 'xline_811.png': (384, 1878), 'xline_1619.png': (384, 1623), 'inline_3311.png': (384, 968), 'inline_1362.png': (384, 768), 'inline_3660.png': (384, 425), 'inline_2835.png': (384, 1560), 'inline_1993.png': (384, 984), 'xline_805.png': (384, 1848), 'xline_1268.png': (384, 2710), 'inline_909.png': (384, 672), 'inline_2772.png': (384, 1576), 'inline_1026.png': (384, 672), 'inline_2744.png': (384, 1584), 'inline_1491.png': (384, 768), 'inline_1178.png': (384, 768), 'xline_647.png': (384, 1042), 'inline_2320.png': (384, 1663), 'xline_1808.png': (384, 1551), 'inline_2193.png': (384, 1328), 'inline_3456.png': (384, 968), 'xline_1788.png': (384, 1551), 'inline_1855.png': (384, 1024), 'inline_1900.png': (384, 1016), 'xline_1088.png': (384, 2710), 'inline_1767.png': (384, 1040), 'xline_771.png': (384, 1734), 'xline_1211.png': (384, 2710), 'xline_1103.png': (384, 2710), 'inline_2160.png': (384, 1272), 'xline_1475.png': (384, 1888), 'xline_2331.png': (384, 856), 'xline_1612.png': (384, 1623), 'inline_2349.png': (384, 1696), 'xline_1235.png': (384, 2710), 'xline_860.png': (384, 2046), 'inline_2169.png': (384, 1288), 'inline_2573.png': (384, 1632), 'inline_1418.png': (384, 768), 'xline_829.png': (384, 1926), 'xline_2223.png': (384, 871), 'inline_1302.png': (384, 768), 'xline_1478.png': (384, 1888), 'xline_1215.png': (384, 2710), 'inline_3252.png': (384, 968), 'xline_1723.png': (384, 1591), 'inline_3343.png': (384, 968), 'xline_2344.png': (384, 847), 'inline_2931.png': (384, 1536), 'inline_3498.png': (384, 968), 'xline_1026.png': (384, 2226), 'xline_1180.png': (384, 2710), 'inline_3550.png': (384, 944), 'inline_3241.png': (384, 968), 'xline_2008.png': (384, 1461), 'inline_2892.png': (384, 1544), 'inline_2092.png': (384, 1104), 'inline_1415.png': (384, 768), 'xline_1061.png': (384, 2670), 'xline_2327.png': (384, 856), 'inline_1473.png': (384, 768), 'inline_2372.png': (384, 1688), 'xline_749.png': (384, 1650), 'xline_705.png': (384, 1270), 'xline_2367.png': (384, 832), 'inline_3471.png': (384, 968), 'inline_1771.png': (384, 1040), 'xline_1551.png': (384, 1888), 'inline_912.png': (384, 672), 'inline_3188.png': (384, 968), 'inline_1080.png': (384, 672), 'inline_1935.png': (384, 1000), 'inline_2278.png': (384, 1495), 'xline_1678.png': (384, 1623), 'xline_1766.png': (384, 1567), 'xline_1084.png': (384, 2710), 'inline_1815.png': (384, 1032), 'inline_2479.png': (384, 1656), 'inline_1650.png': (384, 768), 'xline_2165.png': (384, 903), 'xline_1488.png': (384, 1888), 'inline_3615.png': (384, 425), 'xline_730.png': (384, 1590), 'inline_3075.png': (384, 1496), 'xline_1761.png': (384, 1567), 'xline_2018.png': (384, 949), 'inline_2258.png': (384, 1503), 'xline_2117.png': (384, 935), 'xline_1494.png': (384, 1888), 'inline_1225.png': (384, 768), 'xline_1074.png': (384, 2694), 'xline_1804.png': (384, 1551), 'inline_2281.png': (384, 1495), 'xline_1712.png': (384, 1607), 'inline_1587.png': (384, 768), 'inline_2484.png': (384, 1656), 'inline_1047.png': (384, 672), 'inline_3080.png': (384, 1496), 'xline_2130.png': (384, 935), 'xline_591.png': (384, 844), 'inline_3509.png': (384, 968), 'xline_1436.png': (384, 1888), 'xline_1862.png': (384, 1535), 'inline_2512.png': (384, 1648), 'xline_577.png': (384, 820), 'inline_3503.png': (384, 968), 'inline_1705.png': (384, 1088), 'inline_1203.png': (384, 768), 'inline_1686.png': (384, 1056), 'inline_1624.png': (384, 768), 'inline_2486.png': (384, 1656), 'inline_2378.png': (384, 1688), 'inline_1257.png': (384, 768), 'xline_1028.png': (384, 2226), 'inline_3491.png': (384, 968), 'xline_2100.png': (384, 943), 'inline_2086.png': (384, 1104), 'inline_1973.png': (384, 992), 'xline_1628.png': (384, 1623), 'inline_2807.png': (384, 1568), 'inline_1452.png': (384, 768), 'inline_3452.png': (384, 968), 'xline_1507.png': (384, 1888), 'xline_1135.png': (384, 2710), 'inline_2327.png': (384, 1663), 'xline_1706.png': (384, 1607), 'inline_3194.png': (384, 968), 'inline_2615.png': (384, 1624), 'inline_2714.png': (384, 1592), 'inline_2078.png': (384, 1083), 'xline_781.png': (384, 1758), 'xline_1948.png': (384, 1487), 'inline_1580.png': (384, 768), 'inline_1281.png': (384, 768), 'inline_1870.png': (384, 1024), 'inline_3357.png': (384, 968), 'inline_3428.png': (384, 968), 'xline_1517.png': (384, 1888), 'inline_2036.png': (384, 976), 'xline_1131.png': (384, 2710), 'xline_1392.png': (384, 1888), 'xline_842.png': (384, 1986), 'inline_2571.png': (384, 1632), 'inline_1591.png': (384, 768), 'inline_3469.png': (384, 968), 'inline_876.png': (384, 672), 'inline_2656.png': (384, 1608), 'xline_800.png': (384, 1818), 'xline_1748.png': (384, 1575), 'inline_943.png': (384, 672), 'inline_1809.png': (384, 1040), 'xline_1557.png': (384, 1888), 'inline_3366.png': (384, 968), 'inline_3649.png': (384, 425), 'inline_3189.png': (384, 968), 'inline_2403.png': (384, 1680), 'inline_1447.png': (384, 768), 'inline_3298.png': (384, 968), 'inline_1661.png': (384, 768), 'inline_1246.png': (384, 768), 'xline_2298.png': (384, 871), 'inline_3057.png': (384, 1496), 'xline_514.png': (384, 624), 'inline_1432.png': (384, 768), 'xline_596.png': (384, 862), 'inline_2626.png': (384, 1616), 'inline_3371.png': (384, 968), 'xline_559.png': (384, 724), 'xline_1495.png': (384, 1888), 'xline_1234.png': (384, 2710), 'inline_3260.png': (384, 968), 'xline_2141.png': (384, 903), 'inline_1697.png': (384, 1088), 'inline_3524.png': (384, 960), 'xline_1508.png': (384, 1888), 'inline_1436.png': (384, 768), 'xline_1461.png': (384, 1888), 'xline_693.png': (384, 1210), 'xline_1776.png': (384, 1567), 'inline_1792.png': (384, 1040), 'inline_1884.png': (384, 1024), 'inline_1067.png': (384, 672), 'xline_1904.png': (384, 1519), 'inline_1012.png': (384, 672), 'inline_1579.png': (384, 768), 'inline_2748.png': (384, 1584), 'inline_3453.png': (384, 968), 'inline_1251.png': (384, 768), 'xline_1651.png': (384, 1623), 'xline_1735.png': (384, 1591), 'inline_869.png': (384, 672), 'inline_1914.png': (384, 1008), 'xline_1126.png': (384, 2710), 'inline_1504.png': (384, 768), 'inline_2854.png': (384, 1552), 'inline_1605.png': (384, 768), 'inline_3097.png': (384, 1352), 'inline_2095.png': (384, 1104), 'inline_957.png': (384, 672), 'xline_2113.png': (384, 935), 'inline_2200.png': (384, 1328), 'inline_2863.png': (384, 1552), 'inline_2083.png': (384, 1104), 'inline_3092.png': (384, 1352), 'inline_2948.png': (384, 1528), 'xline_1649.png': (384, 1623), 'xline_835.png': (384, 1956), 'inline_1814.png': (384, 1032), 'xline_2134.png': (384, 903), 'inline_3559.png': (384, 936), 'xline_584.png': (384, 820), 'xline_909.png': (384, 2226), 'xline_783.png': (384, 1758), 'xline_653.png': (384, 1072), 'inline_2513.png': (384, 1648), 'inline_2752.png': (384, 1584), 'inline_3193.png': (384, 968), 'inline_3020.png': (384, 1512), 'inline_996.png': (384, 672), 'inline_3005.png': (384, 1512), 'inline_3283.png': (384, 968), 'inline_3216.png': (384, 968), 'inline_1055.png': (384, 672), 'xline_633.png': (384, 1012), 'inline_2625.png': (384, 1616), 'xline_791.png': (384, 1788), 'xline_1593.png': (384, 1623), 'xline_1800.png': (384, 1551), 'inline_3465.png': (384, 968), 'xline_822.png': (384, 1902), 'inline_3091.png': (384, 1352), 'inline_2882.png': (384, 1544), 'inline_3245.png': (384, 968), 'xline_685.png': (384, 1180), 'inline_1555.png': (384, 768), 'inline_1467.png': (384, 768), 'inline_2720.png': (384, 1592), 'xline_1963.png': (384, 1487), 'xline_540.png': (384, 624), 'inline_3449.png': (384, 968), 'inline_3261.png': (384, 968), 'inline_2019.png': (384, 976), 'inline_2456.png': (384, 1664), 'xline_1951.png': (384, 1487), 'inline_3532.png': (384, 952), 'xline_1046.png': (384, 2226), 'xline_2076.png': (384, 943), 'inline_1377.png': (384, 768), 'inline_1768.png': (384, 1040), 'xline_2315.png': (384, 856), 'xline_747.png': (384, 1650), 'xline_1018.png': (384, 2226), 'xline_2274.png': (384, 871), 'xline_2102.png': (384, 943), 'xline_1696.png': (384, 1607), 'xline_1883.png': (384, 1527), 'inline_2928.png': (384, 1536), 'xline_854.png': (384, 2016), 'inline_884.png': (384, 672), 'xline_2077.png': (384, 943), 'inline_1608.png': (384, 768), 'xline_945.png': (384, 2226), 'xline_795.png': (384, 1818), 'inline_1778.png': (384, 1040), 'xline_1536.png': (384, 1888), 'inline_1333.png': (384, 768), 'xline_1412.png': (384, 1888), 'xline_949.png': (384, 2226), 'xline_2345.png': (384, 847), 'inline_1493.png': (384, 768), 'inline_1048.png': (384, 672), 'xline_2267.png': (384, 871), 'xline_1460.png': (384, 1888), 'inline_1440.png': (384, 768), 'xline_748.png': (384, 1650), 'inline_1145.png': (384, 768), 'xline_2078.png': (384, 943), 'inline_1696.png': (384, 1088), 'xline_590.png': (384, 844), 'inline_3085.png': (384, 1352), 'inline_1247.png': (384, 768), 'inline_3316.png': (384, 968), 'inline_2173.png': (384, 1288), 'xline_632.png': (384, 988), 'xline_2302.png': (384, 871), 'xline_2243.png': (384, 871), 'xline_1961.png': (384, 1487), 'inline_2146.png': (384, 1248), 'xline_1569.png': (384, 1882), 'xline_1014.png': (384, 2226), 'xline_565.png': (384, 760), 'inline_3492.png': (384, 968), 'inline_2142.png': (384, 1224), 'inline_1240.png': (384, 768), 'xline_2106.png': (384, 935), 'xline_1146.png': (384, 2710), 'xline_1932.png': (384, 1511), 'inline_1623.png': (384, 768), 'xline_1980.png': (384, 1487), 'inline_1972.png': (384, 992), 'inline_1411.png': (384, 768), 'inline_2449.png': (384, 1664), 'inline_2880.png': (384, 1544), 'inline_1986.png': (384, 984), 'inline_1278.png': (384, 768), 'xline_1600.png': (384, 1623), 'xline_1438.png': (384, 1888), 'xline_1509.png': (384, 1888), 'xline_2394.png': (384, 832), 'xline_1035.png': (384, 2226), 'inline_1866.png': (384, 1024), 'inline_1025.png': (384, 672), 'xline_1434.png': (384, 1888), 'inline_2308.png': (384, 1639), 'xline_1075.png': (384, 2694), 'xline_1271.png': (384, 2710), 'xline_2022.png': (384, 949), 'inline_3394.png': (384, 968), 'xline_1098.png': (384, 2710), 'xline_1203.png': (384, 2710), 'xline_564.png': (384, 760), 'xline_1181.png': (384, 2710), 'inline_2442.png': (384, 1672), 'inline_1549.png': (384, 768), 'xline_1685.png': (384, 1615), 'inline_3034.png': (384, 1504), 'inline_3558.png': (384, 936), 'inline_1488.png': (384, 768), 'xline_863.png': (384, 2046), 'xline_826.png': (384, 1926), 'inline_870.png': (384, 672), 'inline_1893.png': (384, 1016), 'inline_2445.png': (384, 1672), 'inline_951.png': (384, 672), 'inline_3395.png': (384, 968), 'inline_2054.png': (384, 1058), 'inline_1315.png': (384, 768), 'inline_3616.png': (384, 425), 'inline_1531.png': (384, 768), 'inline_1147.png': (384, 768), 'inline_2688.png': (384, 1600), 'inline_1271.png': (384, 768), 'inline_1788.png': (384, 1040), 'xline_2044.png': (384, 949), 'xline_1918.png': (384, 1519), 'xline_1949.png': (384, 1487), 'inline_2970.png': (384, 1520), 'xline_1092.png': (384, 2710), 'inline_3358.png': (384, 968), 'inline_2675.png': (384, 1608), 'xline_1072.png': (384, 2686), 'inline_1400.png': (384, 768), 'xline_2041.png': (384, 949), 'xline_1087.png': (384, 2710), 'inline_2645.png': (384, 1616), 'xline_1953.png': (384, 1487), 'xline_545.png': (384, 624), 'inline_2862.png': (384, 1552), 'inline_2853.png': (384, 1552), 'inline_2077.png': (384, 1083), 'inline_1050.png': (384, 672), 'inline_2029.png': (384, 976), 'xline_980.png': (384, 2226), 'inline_1829.png': (384, 1032), 'xline_2380.png': (384, 832), 'inline_2370.png': (384, 1688), 'xline_2259.png': (384, 871), 'inline_3654.png': (384, 425), 'inline_1848.png': (384, 1032), 'inline_2641.png': (384, 1616), 'inline_2042.png': (384, 976), 'xline_908.png': (384, 2226), 'inline_1222.png': (384, 768), 'inline_2696.png': (384, 1600), 'inline_1166.png': (384, 768), 'xline_1431.png': (384, 1888), 'inline_3461.png': (384, 968), 'inline_3387.png': (384, 968), 'xline_516.png': (384, 624), 'xline_1479.png': (384, 1888), 'xline_1468.png': (384, 1888), 'xline_1253.png': (384, 2710), 'xline_2212.png': (384, 871), 'inline_3669.png': (384, 425), 'inline_3610.png': (384, 425), 'xline_1514.png': (384, 1888), 'inline_1592.png': (384, 768), 'inline_1355.png': (384, 768), 'inline_1740.png': (384, 1040), 'inline_3565.png': (384, 936), 'xline_1006.png': (384, 2226), 'inline_3477.png': (384, 968), 'inline_3203.png': (384, 968), 'xline_1449.png': (384, 1888), 'inline_1007.png': (384, 672), 'xline_1083.png': (384, 2710), 'inline_2192.png': (384, 1328), 'xline_1631.png': (384, 1623), 'xline_553.png': (384, 724), 'inline_1683.png': (384, 1056), 'inline_2305.png': (384, 1639), 'inline_2082.png': (384, 1104), 'inline_1902.png': (384, 1016), 'xline_1553.png': (384, 1888), 'xline_1452.png': (384, 1888), 'inline_2844.png': (384, 1560), 'xline_1104.png': (384, 2710), 'inline_1458.png': (384, 768), 'inline_2168.png': (384, 1288), 'inline_2127.png': (384, 1176), 'inline_3027.png': (384, 1504), 'xline_772.png': (384, 1734), 'xline_717.png': (384, 1530), 'inline_3126.png': (384, 1352), 'xline_2390.png': (384, 832), 'inline_2307.png': (384, 1639), 'inline_1701.png': (384, 1088), 'inline_3646.png': (384, 425), 'inline_1628.png': (384, 768), 'inline_3248.png': (384, 968), 'inline_2939.png': (384, 1528), 'xline_1781.png': (384, 1567), 'xline_1184.png': (384, 2710), 'inline_2074.png': (384, 1091), 'inline_3028.png': (384, 1504), 'xline_1968.png': (384, 1487), 'inline_2901.png': (384, 1544), 'inline_1299.png': (384, 768), 'inline_2976.png': (384, 1520), 'xline_1541.png': (384, 1888), 'xline_1912.png': (384, 1519), 'inline_3318.png': (384, 968), 'inline_1173.png': (384, 768), 'inline_3655.png': (384, 425), 'inline_2965.png': (384, 1520), 'xline_2001.png': (384, 1461), 'inline_3496.png': (384, 968), 'xline_793.png': (384, 1818), 'inline_3651.png': (384, 425), 'xline_1453.png': (384, 1888), 'xline_1257.png': (384, 2710), 'xline_2247.png': (384, 871), 'inline_3422.png': (384, 968), 'inline_2878.png': (384, 1544), 'inline_2655.png': (384, 1608), 'xline_2140.png': (384, 903), 'xline_2348.png': (384, 847), 'inline_2682.png': (384, 1600), 'inline_3575.png': (384, 425), 'xline_735.png': (384, 1590), 'xline_2246.png': (384, 871), 'inline_2885.png': (384, 1544), 'xline_1739.png': (384, 1575), 'xline_2372.png': (384, 832), 'inline_1679.png': (384, 768), 'xline_2318.png': (384, 856), 'inline_3535.png': (384, 952), 'inline_2581.png': (384, 1632), 'inline_3506.png': (384, 968), 'inline_2359.png': (384, 1688), 'inline_3201.png': (384, 968), 'inline_3294.png': (384, 968), 'xline_527.png': (384, 624), 'inline_3095.png': (384, 1352), 'inline_1378.png': (384, 768), 'xline_1852.png': (384, 1535), 'inline_3172.png': (384, 968), 'inline_1601.png': (384, 768), 'inline_1461.png': (384, 768), 'xline_2398.png': (384, 832), 'inline_2518.png': (384, 1648), 'xline_925.png': (384, 2226), 'inline_2560.png': (384, 1640), 'inline_3583.png': (384, 425), 'xline_1427.png': (384, 1888), 'xline_1606.png': (384, 1623), 'xline_1870.png': (384, 1535), 'inline_1660.png': (384, 768), 'inline_1321.png': (384, 768), 'inline_3594.png': (384, 425), 'inline_2521.png': (384, 1648), 'xline_1611.png': (384, 1623), 'inline_3628.png': (384, 425), 'xline_786.png': (384, 1788), 'xline_2111.png': (384, 935), 'inline_3475.png': (384, 968), 'inline_2796.png': (384, 1568), 'inline_904.png': (384, 672), 'inline_3044.png': (384, 1504), 'xline_1082.png': (384, 2710), 'xline_1506.png': (384, 1888), 'inline_975.png': (384, 672), 'xline_1669.png': (384, 1623), 'xline_1217.png': (384, 2710), 'inline_2589.png': (384, 1632), 'inline_1205.png': (384, 768), 'xline_941.png': (384, 2226), 'inline_1435.png': (384, 768), 'inline_1003.png': (384, 672), 'inline_2543.png': (384, 1640), 'inline_2629.png': (384, 1616), 'inline_2738.png': (384, 1584), 'xline_2172.png': (384, 903), 'xline_984.png': (384, 2226), 'inline_3425.png': (384, 968), 'inline_3540.png': (384, 952), 'xline_505.png': (384, 624), 'xline_2214.png': (384, 871), 'inline_1515.png': (384, 768), 'inline_2052.png': (384, 1066), 'xline_2370.png': (384, 832), 'xline_1942.png': (384, 1511), 'inline_3056.png': (384, 1496), 'xline_1544.png': (384, 1888), 'inline_2260.png': (384, 1503), 'inline_2039.png': (384, 976), 'inline_1191.png': (384, 768), 'inline_2640.png': (384, 1616), 'inline_1544.png': (384, 768), 'xline_2080.png': (384, 943), 'inline_1520.png': (384, 768), 'inline_1599.png': (384, 768), 'inline_2786.png': (384, 1568), 'inline_3458.png': (384, 968), 'inline_1196.png': (384, 768), 'xline_1672.png': (384, 1623), 'inline_1427.png': (384, 768), 'xline_1127.png': (384, 2710), 'inline_3302.png': (384, 968), 'inline_2354.png': (384, 1696), 'inline_3671.png': (384, 425), 'inline_2047.png': (384, 976), 'xline_1051.png': (384, 2662), 'inline_1117.png': (384, 880), 'xline_1994.png': (384, 1461), 'inline_2927.png': (384, 1536), 'inline_1327.png': (384, 768), 'xline_1417.png': (384, 1888), 'xline_1186.png': (384, 2710), 'xline_2174.png': (384, 903), 'xline_996.png': (384, 2226), 'inline_2181.png': (384, 1288), 'inline_2492.png': (384, 1656), 'inline_3472.png': (384, 968), 'xline_817.png': (384, 1902), 'inline_3094.png': (384, 1352), 'inline_1573.png': (384, 768), 'inline_3205.png': (384, 968), 'inline_1439.png': (384, 768), 'inline_1512.png': (384, 768), 'inline_2908.png': (384, 1536), 'inline_2905.png': (384, 1536), 'inline_930.png': (384, 672), 'inline_2509.png': (384, 1648), 'inline_2886.png': (384, 1544), 'inline_913.png': (384, 672), 'inline_1303.png': (384, 768), 'inline_2622.png': (384, 1616), 'xline_2254.png': (384, 871), 'inline_1239.png': (384, 768), 'inline_967.png': (384, 672), 'inline_3250.png': (384, 968), 'xline_1755.png': (384, 1575), 'inline_1897.png': (384, 1016), 'inline_3436.png': (384, 968), 'xline_2329.png': (384, 856), 'xline_2179.png': (384, 903), 'inline_2318.png': (384, 1656), 'xline_1931.png': (384, 1511), 'xline_929.png': (384, 2226), 'inline_1675.png': (384, 768), 'inline_2990.png': (384, 1520), 'xline_892.png': (384, 2166), 'inline_2148.png': (384, 1248), 'xline_1915.png': (384, 1519), 'inline_3117.png': (384, 1352), 'xline_1693.png': (384, 1607), 'inline_960.png': (384, 672), 'inline_1360.png': (384, 768), 'inline_3104.png': (384, 1352), 'xline_2125.png': (384, 935), 'xline_1500.png': (384, 1888), 'inline_3599.png': (384, 425), 'inline_1289.png': (384, 768), 'xline_1519.png': (384, 1888), 'inline_1220.png': (384, 768), 'xline_581.png': (384, 820), 'xline_788.png': (384, 1788), 'inline_877.png': (384, 672), 'inline_2937.png': (384, 1528), 'inline_2827.png': (384, 1560), 'xline_1792.png': (384, 1551), 'inline_944.png': (384, 672), 'xline_1059.png': (384, 2670), 'xline_1420.png': (384, 1888), 'inline_1738.png': (384, 1040), 'xline_1174.png': (384, 2710), 'inline_3399.png': (384, 968), 'inline_1229.png': (384, 768), 'inline_2171.png': (384, 1288), 'inline_2382.png': (384, 1688), 'xline_2233.png': (384, 871), 'inline_1521.png': (384, 768), 'xline_1216.png': (384, 2710), 'xline_1542.png': (384, 1888), 'inline_2784.png': (384, 1576), 'xline_1656.png': (384, 1623), 'inline_2375.png': (384, 1688), 'xline_850.png': (384, 2016), 'inline_3081.png': (384, 1496), 'inline_1502.png': (384, 768), 'xline_935.png': (384, 2226), 'xline_1201.png': (384, 2710), 'xline_1574.png': (384, 1882), 'xline_930.png': (384, 2226), 'xline_1827.png': (384, 1543), 'inline_1946.png': (384, 1000), 'inline_2152.png': (384, 1248), 'inline_2355.png': (384, 1696), 'inline_2468.png': (384, 1664), 'xline_830.png': (384, 1926), 'inline_1291.png': (384, 768), 'xline_2193.png': (384, 871), 'inline_1277.png': (384, 768), 'inline_2762.png': (384, 1576), 'inline_3324.png': (384, 968), 'inline_3025.png': (384, 1504), 'inline_1072.png': (384, 672), 'inline_2297.png': (384, 1616), 'xline_2382.png': (384, 832), 'inline_2864.png': (384, 1552), 'inline_1547.png': (384, 768), 'xline_2063.png': (384, 949), 'xline_1923.png': (384, 1511), 'inline_2987.png': (384, 1520), 'xline_936.png': (384, 2226), 'xline_1397.png': (384, 1888), 'xline_1058.png': (384, 2670), 'inline_1904.png': (384, 1016), 'inline_2561.png': (384, 1640), 'inline_1245.png': (384, 768), 'inline_3494.png': (384, 968), 'inline_2265.png': (384, 1503), 'xline_2236.png': (384, 871), 'xline_1981.png': (384, 1487), 'xline_995.png': (384, 2226), 'inline_2818.png': (384, 1560), 'inline_1813.png': (384, 1032), 'xline_1820.png': (384, 1543), 'inline_931.png': (384, 672), 'inline_3022.png': (384, 1512), 'inline_1956.png': (384, 992), 'inline_1994.png': (384, 984), 'xline_1402.png': (384, 1888), 'inline_2961.png': (384, 1528), 'inline_2777.png': (384, 1576), 'xline_738.png': (384, 1620), 'inline_1976.png': (384, 984), 'xline_2253.png': (384, 871), 'xline_1634.png': (384, 1623), 'inline_1265.png': (384, 768), 'xline_1015.png': (384, 2226), 'xline_1898.png': (384, 1519), 'xline_629.png': (384, 988), 'inline_3536.png': (384, 952), 'inline_3297.png': (384, 968), 'xline_2090.png': (384, 943), 'inline_3577.png': (384, 425), 'inline_2588.png': (384, 1632), 'xline_1683.png': (384, 1615), 'xline_1863.png': (384, 1535), 'xline_1716.png': (384, 1591), 'xline_1973.png': (384, 1487), 'xline_2146.png': (384, 903), 'inline_2716.png': (384, 1592), 'inline_2450.png': (384, 1664), 'xline_2314.png': (384, 856), 'inline_2852.png': (384, 1552), 'xline_1025.png': (384, 2226), 'inline_3441.png': (384, 968), 'xline_639.png': (384, 1012), 'inline_1434.png': (384, 768), 'xline_1843.png': (384, 1543), 'inline_2096.png': (384, 1104), 'xline_2347.png': (384, 847), 'inline_1407.png': (384, 768), 'inline_2460.png': (384, 1664), 'inline_1659.png': (384, 768), 'xline_520.png': (384, 624), 'xline_848.png': (384, 1986), 'inline_2159.png': (384, 1272), 'xline_1579.png': (384, 1882), 'xline_1505.png': (384, 1888), 'inline_1043.png': (384, 672), 'inline_3474.png': (384, 968), 'inline_3182.png': (384, 968), 'inline_1933.png': (384, 1000), 'xline_733.png': (384, 1590), 'xline_1523.png': (384, 1888), 'xline_1650.png': (384, 1623), 'inline_2590.png': (384, 1632), 'xline_897.png': (384, 2196), 'inline_2659.png': (384, 1608), 'inline_3230.png': (384, 968), 'inline_1748.png': (384, 1040), 'xline_713.png': (384, 1530), 'inline_1030.png': (384, 672), 'inline_2999.png': (384, 1512), 'xline_1828.png': (384, 1543), 'inline_3082.png': (384, 1496), 'inline_1465.png': (384, 768), 'inline_2357.png': (384, 1696), 'inline_3129.png': (384, 1352), 'inline_878.png': (384, 672), 'xline_1814.png': (384, 1551), 'inline_1180.png': (384, 768), 'xline_1263.png': (384, 2710), 'inline_1617.png': (384, 768), 'inline_2498.png': (384, 1656), 'inline_1929.png': (384, 1008), 'inline_2593.png': (384, 1624), 'inline_1907.png': (384, 1016), 'inline_2240.png': (384, 1453), 'xline_2396.png': (384, 832), 'xline_1597.png': (384, 1623), 'inline_1325.png': (384, 768), 'inline_941.png': (384, 672), 'inline_1460.png': (384, 768), 'inline_2958.png': (384, 1528), 'inline_1219.png': (384, 768), 'inline_2179.png': (384, 1288), 'inline_3237.png': (384, 968), 'inline_2066.png': (384, 1088), 'xline_1145.png': (384, 2710), 'xline_840.png': (384, 1956), 'inline_2505.png': (384, 1656), 'xline_1610.png': (384, 1623), 'inline_3246.png': (384, 968), 'xline_972.png': (384, 2226), 'inline_1199.png': (384, 768), 'xline_728.png': (384, 1560), 'inline_2906.png': (384, 1536), 'inline_2490.png': (384, 1656), 'xline_1633.png': (384, 1623), 'inline_2063.png': (384, 1067), 'inline_2601.png': (384, 1624), 'xline_1708.png': (384, 1607), 'xline_2391.png': (384, 832), 'xline_1480.png': (384, 1888), 'inline_1673.png': (384, 768), 'xline_1869.png': (384, 1535), 'xline_734.png': (384, 1590), 'inline_3630.png': (384, 425), 'inline_1537.png': (384, 768), 'inline_1106.png': (384, 880), 'inline_2782.png': (384, 1576), 'inline_3336.png': (384, 968), 'inline_1470.png': (384, 768), 'xline_521.png': (384, 624), 'inline_3544.png': (384, 952), 'inline_3635.png': (384, 425), 'inline_2235.png': (384, 1461), 'xline_2383.png': (384, 832), 'inline_3332.png': (384, 968), 'inline_2184.png': (384, 1288), 'inline_1396.png': (384, 768), 'inline_1819.png': (384, 1032), 'inline_3516.png': (384, 968), 'xline_1262.png': (384, 2710), 'inline_2741.png': (384, 1584), 'xline_1889.png': (384, 1527), 'inline_3658.png': (384, 425), 'xline_2353.png': (384, 840), 'inline_3125.png': (384, 1352), 'xline_576.png': (384, 796), 'inline_2570.png': (384, 1632), 'xline_2196.png': (384, 871), 'xline_638.png': (384, 1012), 'inline_1588.png': (384, 768), 'inline_1533.png': (384, 768), 'xline_1793.png': (384, 1551), 'inline_1722.png': (384, 1040), 'inline_1058.png': (384, 672), 'xline_932.png': (384, 2226), 'xline_1123.png': (384, 2710), 'inline_2119.png': (384, 1144), 'inline_3223.png': (384, 968), 'inline_1984.png': (384, 984), 'xline_1907.png': (384, 1519), 'inline_3200.png': (384, 968), 'xline_1037.png': (384, 2226), 'xline_1724.png': (384, 1591), 'inline_2288.png': (384, 1495), 'xline_2287.png': (384, 871), 'inline_1577.png': (384, 768), 'inline_3083.png': (384, 1496), 'xline_2285.png': (384, 871), 'inline_1565.png': (384, 768), 'inline_860.png': (384, 672), 'xline_2135.png': (384, 903), 'xline_1734.png': (384, 1591), 'inline_2322.png': (384, 1663), 'inline_907.png': (384, 672), 'inline_2154.png': (384, 1272), 'xline_1085.png': (384, 2710), 'inline_1881.png': (384, 1024), 'inline_2604.png': (384, 1624), 'inline_2208.png': (384, 1328), 'inline_1232.png': (384, 768), 'xline_1248.png': (384, 2710), 'inline_1799.png': (384, 1040), 'xline_598.png': (384, 862), 'xline_1490.png': (384, 1888), 'xline_1528.png': (384, 1888), 'inline_1279.png': (384, 768), 'xline_1265.png': (384, 2710), 'xline_1002.png': (384, 2226), 'inline_1867.png': (384, 1024), 'xline_1703.png': (384, 1607), 'xline_1876.png': (384, 1527), 'inline_1656.png': (384, 768), 'inline_1655.png': (384, 768), 'inline_3264.png': (384, 968), 'xline_1711.png': (384, 1607), 'inline_2241.png': (384, 1453), 'inline_1691.png': (384, 1088), 'inline_1538.png': (384, 768), 'inline_1730.png': (384, 1040), 'xline_921.png': (384, 2226), 'xline_2131.png': (384, 935), 'xline_1585.png': (384, 1882), 'inline_1210.png': (384, 768), 'inline_2109.png': (384, 1144), 'inline_3663.png': (384, 425), 'xline_1172.png': (384, 2710), 'inline_2631.png': (384, 1616), 'inline_2121.png': (384, 1176), 'inline_2522.png': (384, 1648), 'xline_650.png': (384, 1072), 'inline_3363.png': (384, 968), 'inline_2875.png': (384, 1544), 'xline_950.png': (384, 2226), 'xline_548.png': (384, 624), 'xline_739.png': (384, 1620), 'inline_1313.png': (384, 768), 'xline_706.png': (384, 1270), 'xline_2123.png': (384, 935), 'inline_1680.png': (384, 768), 'inline_1126.png': (384, 768), 'inline_1162.png': (384, 768), 'inline_861.png': (384, 672), 'inline_2771.png': (384, 1576), 'inline_1083.png': (384, 672), 'inline_2809.png': (384, 1568), 'inline_1152.png': (384, 768), 'xline_1226.png': (384, 2710), 'inline_863.png': (384, 672), 'inline_2334.png': (384, 1696), 'xline_2256.png': (384, 871), 'inline_3278.png': (384, 968), 'inline_2231.png': (384, 1461), 'xline_1878.png': (384, 1527), 'xline_1993.png': (384, 1461), 'xline_843.png': (384, 1986), 'inline_3045.png': (384, 1504), 'xline_2083.png': (384, 943), 'inline_3187.png': (384, 968), 'inline_1816.png': (384, 1032), 'inline_881.png': (384, 672), 'inline_3513.png': (384, 968), 'xline_1190.png': (384, 2710), 'xline_1413.png': (384, 1888), 'inline_1266.png': (384, 768), 'inline_2299.png': (384, 1608), 'inline_1717.png': (384, 1040), 'inline_1516.png': (384, 768), 'inline_2998.png': (384, 1512), 'inline_3613.png': (384, 425), 'inline_3328.png': (384, 968), 'inline_1018.png': (384, 672), 'inline_2584.png': (384, 1632), 'inline_1543.png': (384, 768), 'inline_2753.png': (384, 1584), 'inline_2434.png': (384, 1672), 'inline_1834.png': (384, 1032), 'inline_1635.png': (384, 768), 'inline_3446.png': (384, 968), 'inline_2694.png': (384, 1600), 'xline_2296.png': (384, 871), 'inline_3549.png': (384, 944), 'inline_969.png': (384, 672), 'xline_2263.png': (384, 871), 'xline_1232.png': (384, 2710), 'inline_1038.png': (384, 672), 'inline_3055.png': (384, 1496), 'inline_2223.png': (384, 1432), 'inline_3173.png': (384, 968), 'xline_1957.png': (384, 1487), 'xline_542.png': (384, 624), 'inline_2557.png': (384, 1640), 'xline_2264.png': (384, 871), 'inline_1719.png': (384, 1040), 'inline_3605.png': (384, 425), 'inline_1731.png': (384, 1040), 'inline_1045.png': (384, 672), 'xline_662.png': (384, 1096), 'xline_1009.png': (384, 2226), 'inline_3301.png': (384, 968), 'inline_2836.png': (384, 1560), 'inline_1609.png': (384, 768), 'xline_2356.png': (384, 840), 'inline_2789.png': (384, 1568), 'inline_2236.png': (384, 1461), 'inline_3653.png': (384, 425), 'inline_1233.png': (384, 768), 'inline_1868.png': (384, 1024), 'inline_889.png': (384, 672), 'inline_1442.png': (384, 768), 'xline_1608.png': (384, 1623), 'xline_1545.png': (384, 1888), 'xline_1806.png': (384, 1551), 'xline_2067.png': (384, 949), 'inline_3058.png': (384, 1496), 'inline_982.png': (384, 672), 'inline_1151.png': (384, 768), 'inline_1969.png': (384, 992), 'inline_2224.png': (384, 1432), 'inline_1775.png': (384, 1040), 'inline_3507.png': (384, 968), 'inline_3611.png': (384, 425), 'xline_902.png': (384, 2196), 'xline_859.png': (384, 2046), 'inline_3445.png': (384, 968), 'inline_3557.png': (384, 936), 'inline_2472.png': (384, 1664), 'inline_894.png': (384, 672), 'inline_966.png': (384, 672), 'inline_3622.png': (384, 425), 'xline_2284.png': (384, 871), 'inline_3136.png': (384, 1352), 'xline_1031.png': (384, 2226), 'inline_3015.png': (384, 1512), 'inline_1290.png': (384, 768), 'inline_1198.png': (384, 768), 'xline_2268.png': (384, 871), 'xline_2072.png': (384, 949), 'inline_3382.png': (384, 968), 'inline_1754.png': (384, 1040), 'inline_1139.png': (384, 768), 'xline_525.png': (384, 624), 'inline_2368.png': (384, 1688), 'xline_1969.png': (384, 1487), 'xline_2360.png': (384, 832), 'inline_2580.png': (384, 1632), 'inline_2763.png': (384, 1576), 'inline_1856.png': (384, 1024), 'xline_1179.png': (384, 2710), 'inline_2778.png': (384, 1576), 'xline_1518.png': (384, 1888), 'inline_1079.png': (384, 672), 'inline_3384.png': (384, 968), 'xline_1430.png': (384, 1888), 'xline_1533.png': (384, 1888), 'inline_2304.png': (384, 1639), 'inline_1606.png': (384, 768), 'inline_1023.png': (384, 672), 'inline_2829.png': (384, 1560), 'inline_2198.png': (384, 1328), 'inline_3077.png': (384, 1496), 'xline_789.png': (384, 1788), 'inline_1176.png': (384, 768), 'xline_2252.png': (384, 871), 'inline_2966.png': (384, 1520), 'inline_3650.png': (384, 425), 'inline_3012.png': (384, 1512), 'inline_2421.png': (384, 1672), 'inline_2362.png': (384, 1688), 'xline_1529.png': (384, 1888), 'inline_1114.png': (384, 880), 'inline_2453.png': (384, 1664), 'xline_2209.png': (384, 871), 'xline_1470.png': (384, 1888), 'xline_977.png': (384, 2226), 'inline_2546.png': (384, 1640), 'xline_808.png': (384, 1848), 'inline_998.png': (384, 672), 'inline_968.png': (384, 672), 'inline_2147.png': (384, 1248), 'inline_3002.png': (384, 1512), 'inline_1637.png': (384, 768), 'xline_2189.png': (384, 871), 'inline_1450.png': (384, 768), 'xline_1742.png': (384, 1575), 'inline_1784.png': (384, 1040), 'inline_2291.png': (384, 1616), 'inline_1029.png': (384, 672), 'xline_619.png': (384, 964), 'inline_2524.png': (384, 1648), 'inline_2660.png': (384, 1608), 'xline_1005.png': (384, 2226), 'inline_2026.png': (384, 976), 'xline_1757.png': (384, 1575), 'inline_1669.png': (384, 768), 'inline_1821.png': (384, 1032), 'inline_2108.png': (384, 1144), 'xline_853.png': (384, 2016), 'xline_801.png': (384, 1848), 'inline_2712.png': (384, 1592), 'inline_3150.png': (384, 1352), 'xline_2275.png': (384, 871), 'xline_889.png': (384, 2166), 'inline_2225.png': (384, 1461), 'inline_3089.png': (384, 1352), 'inline_1568.png': (384, 768), 'xline_1855.png': (384, 1535), 'inline_3003.png': (384, 1512), 'inline_2118.png': (384, 1144), 'inline_1744.png': (384, 1040), 'inline_1667.png': (384, 768), 'inline_2272.png': (384, 1495), 'inline_1496.png': (384, 768), 'inline_1827.png': (384, 1032), 'xline_757.png': (384, 1680), 'inline_3639.png': (384, 425), 'inline_2638.png': (384, 1616), 'inline_2832.png': (384, 1560), 'inline_3253.png': (384, 968), 'inline_1727.png': (384, 1040), 'inline_3429.png': (384, 968), 'inline_2508.png': (384, 1656), 'inline_2850.png': (384, 1552), 'inline_3467.png': (384, 968), 'xline_1946.png': (384, 1487), 'inline_898.png': (384, 672), 'inline_2713.png': (384, 1592), 'xline_1626.png': (384, 1623), 'xline_1129.png': (384, 2710), 'inline_1791.png': (384, 1040), 'inline_2386.png': (384, 1688), 'inline_3406.png': (384, 968), 'inline_1938.png': (384, 1000), 'xline_971.png': (384, 2226), 'inline_3067.png': (384, 1496), 'xline_839.png': (384, 1956), 'inline_1346.png': (384, 768), 'inline_1034.png': (384, 672), 'inline_1499.png': (384, 768), 'inline_3305.png': (384, 968), 'inline_2702.png': (384, 1600), 'inline_3431.png': (384, 968), 'inline_1161.png': (384, 768), 'inline_1965.png': (384, 992), 'inline_1181.png': (384, 768), 'inline_1477.png': (384, 768), 'xline_2337.png': (384, 847), 'xline_1664.png': (384, 1623), 'inline_1008.png': (384, 672), 'inline_1408.png': (384, 768), 'xline_2330.png': (384, 856), 'inline_1921.png': (384, 1008), 'inline_1255.png': (384, 768), 'inline_1581.png': (384, 768), 'inline_2116.png': (384, 1144), 'inline_3118.png': (384, 1352), 'inline_2833.png': (384, 1560), 'inline_1032.png': (384, 672), 'xline_1151.png': (384, 2710), 'xline_569.png': (384, 796), 'inline_2023.png': (384, 976), 'inline_2572.png': (384, 1632), 'inline_2483.png': (384, 1656), 'inline_859.png': (384, 672), 'xline_600.png': (384, 862), 'xline_715.png': (384, 1530), 'inline_2997.png': (384, 1512), 'inline_1526.png': (384, 768), 'xline_2324.png': (384, 856), 'xline_1187.png': (384, 2710), 'xline_1975.png': (384, 1487), 'inline_3459.png': (384, 968), 'inline_3050.png': (384, 1504), 'inline_1410.png': (384, 768), 'inline_2840.png': (384, 1560), 'xline_868.png': (384, 2076), 'inline_3054.png': (384, 1504), 'inline_1406.png': (384, 768), 'inline_1886.png': (384, 1016), 'xline_1019.png': (384, 2226), 'xline_1024.png': (384, 2226), 'xline_2304.png': (384, 871), 'inline_2711.png': (384, 1592), 'inline_1381.png': (384, 768), 'inline_3570.png': (384, 425), 'inline_3443.png': (384, 968), 'inline_1156.png': (384, 768), 'xline_1976.png': (384, 1487), 'inline_2289.png': (384, 1616), 'inline_958.png': (384, 672), 'xline_2281.png': (384, 871), 'inline_2746.png': (384, 1584), 'inline_1094.png': (384, 880), 'xline_1831.png': (384, 1543), 'xline_736.png': (384, 1590), 'xline_1811.png': (384, 1551), 'inline_1379.png': (384, 768), 'inline_3508.png': (384, 968), 'xline_1580.png': (384, 1882), 'inline_3325.png': (384, 968), 'inline_3211.png': (384, 968), 'inline_2616.png': (384, 1624), 'inline_3249.png': (384, 968), 'inline_2284.png': (384, 1495), 'xline_1684.png': (384, 1615), 'inline_3038.png': (384, 1504), 'inline_3525.png': (384, 960), 'inline_3123.png': (384, 1352), 'xline_676.png': (384, 1150), 'xline_2308.png': (384, 856), 'inline_3289.png': (384, 968), 'xline_1679.png': (384, 1623), 'xline_2176.png': (384, 903), 'xline_753.png': (384, 1680), 'xline_1081.png': (384, 2710), 'xline_1926.png': (384, 1511), 'inline_1148.png': (384, 768), 'inline_1422.png': (384, 768), 'inline_1115.png': (384, 880), 'xline_522.png': (384, 624), 'inline_2893.png': (384, 1544), 'inline_1948.png': (384, 1000), 'inline_1518.png': (384, 768), 'inline_2592.png': (384, 1632), 'xline_686.png': (384, 1180), 'inline_2393.png': (384, 1680), 'inline_3412.png': (384, 968), 'inline_1930.png': (384, 1008), 'inline_1682.png': (384, 1056), 'inline_2481.png': (384, 1656), 'xline_1013.png': (384, 2226), 'inline_2163.png': (384, 1288), 'inline_1112.png': (384, 880), 'inline_2319.png': (384, 1656), 'inline_2072.png': (384, 1088), 'inline_3642.png': (384, 425), 'xline_2333.png': (384, 856), 'inline_3659.png': (384, 425), 'inline_1955.png': (384, 992), 'inline_3238.png': (384, 968), 'xline_1487.png': (384, 1888), 'xline_1100.png': (384, 2710), 'inline_3643.png': (384, 425), 'inline_2609.png': (384, 1624), 'xline_1524.png': (384, 1888), 'xline_1192.png': (384, 2710), 'inline_1845.png': (384, 1032), 'xline_582.png': (384, 820), 'inline_2423.png': (384, 1672), 'xline_1913.png': (384, 1519), 'inline_1820.png': (384, 1032), 'xline_2362.png': (384, 832), 'xline_1704.png': (384, 1607), 'inline_916.png': (384, 672), 'xline_572.png': (384, 796), 'xline_1041.png': (384, 2226), 'inline_1413.png': (384, 768), 'inline_3417.png': (384, 968), 'xline_579.png': (384, 820), 'inline_2076.png': (384, 1091), 'inline_2069.png': (384, 1088), 'inline_1329.png': (384, 768), 'xline_2068.png': (384, 949), 'xline_2014.png': (384, 1461), 'xline_1132.png': (384, 2710), 'xline_2020.png': (384, 949), 'inline_3578.png': (384, 425), 'xline_2350.png': (384, 847), 'xline_1034.png': (384, 2226), 'inline_1629.png': (384, 768), 'xline_2089.png': (384, 943), 'inline_2935.png': (384, 1528), 'inline_1420.png': (384, 768), 'inline_3392.png': (384, 968), 'inline_3217.png': (384, 968), 'inline_3378.png': (384, 968), 'inline_3409.png': (384, 968), 'inline_2701.png': (384, 1600), 'xline_692.png': (384, 1210), 'xline_1853.png': (384, 1535), 'xline_1618.png': (384, 1623), 'xline_2217.png': (384, 871), 'xline_2079.png': (384, 943), 'xline_1722.png': (384, 1591), 'xline_1048.png': (384, 2226), 'xline_1162.png': (384, 2710), 'inline_2742.png': (384, 1584), 'inline_2643.png': (384, 1616), 'xline_1143.png': (384, 2710), 'inline_3119.png': (384, 1352), 'inline_1987.png': (384, 984), 'xline_1471.png': (384, 1888), 'xline_2198.png': (384, 871), 'inline_2338.png': (384, 1696), 'inline_1693.png': (384, 1088), 'inline_2630.png': (384, 1616), 'inline_2011.png': (384, 976), 'inline_2325.png': (384, 1663), 'xline_1910.png': (384, 1519), 'xline_813.png': (384, 1878), 'inline_910.png': (384, 672), 'xline_2148.png': (384, 903), 'xline_988.png': (384, 2226), 'xline_2168.png': (384, 903), 'xline_2162.png': (384, 903), 'inline_2262.png': (384, 1503), 'inline_2791.png': (384, 1568), 'inline_2821.png': (384, 1560), 'inline_2470.png': (384, 1664), 'inline_2736.png': (384, 1592), 'inline_3322.png': (384, 968), 'inline_3013.png': (384, 1512), 'inline_1548.png': (384, 768), 'xline_1933.png': (384, 1511), 'inline_3468.png': (384, 968), 'inline_2418.png': (384, 1680), 'inline_2286.png': (384, 1495), 'xline_1990.png': (384, 1487), 'inline_2860.png': (384, 1552), 'inline_1615.png': (384, 768), 'inline_3327.png': (384, 968), 'xline_1987.png': (384, 1487), 'xline_689.png': (384, 1210), 'xline_894.png': (384, 2166), 'xline_1156.png': (384, 2710), 'xline_2272.png': (384, 871), 'xline_1971.png': (384, 1487), 'inline_2400.png': (384, 1680), 'xline_1920.png': (384, 1519), 'inline_2361.png': (384, 1688), 'inline_1979.png': (384, 984), 'inline_3379.png': (384, 968), 'xline_2199.png': (384, 871), 'xline_764.png': (384, 1710), 'inline_3184.png': (384, 968), 'inline_3154.png': (384, 1352), 'xline_885.png': (384, 2136), 'xline_914.png': (384, 2226), 'inline_2811.png': (384, 1568), 'xline_2192.png': (384, 871), 'inline_1154.png': (384, 768), 'inline_1385.png': (384, 768), 'inline_3137.png': (384, 1352), 'inline_1924.png': (384, 1008), 'inline_1926.png': (384, 1008), 'xline_621.png': (384, 964), 'inline_1474.png': (384, 768), 'xline_2178.png': (384, 903), 'xline_1489.png': (384, 1888), 'inline_1632.png': (384, 768), 'inline_2028.png': (384, 976), 'inline_3667.png': (384, 425), 'inline_2117.png': (384, 1144), 'xline_1844.png': (384, 1543), 'xline_1909.png': (384, 1519), 'inline_2312.png': (384, 1639), 'xline_1998.png': (384, 1461), 'inline_2496.png': (384, 1656), 'inline_2743.png': (384, 1584), 'inline_2455.png': (384, 1664), 'xline_530.png': (384, 624), 'inline_2255.png': (384, 1453), 'xline_1534.png': (384, 1888), 'xline_952.png': (384, 2226), 'xline_2150.png': (384, 903), 'inline_1786.png': (384, 1040), 'inline_2174.png': (384, 1288), 'xline_2278.png': (384, 871), 'inline_3401.png': (384, 968), 'inline_1312.png': (384, 768), 'inline_1335.png': (384, 768), 'xline_778.png': (384, 1758), 'inline_2842.png': (384, 1560), 'inline_1093.png': (384, 880), 'inline_2681.png': (384, 1600), 'xline_965.png': (384, 2226), 'inline_3543.png': (384, 952), 'xline_1750.png': (384, 1575), 'inline_2335.png': (384, 1696), 'inline_2856.png': (384, 1552), 'inline_3668.png': (384, 425), 'inline_3512.png': (384, 968), 'inline_1734.png': (384, 1040), 'inline_3078.png': (384, 1496), 'xline_707.png': (384, 1270), 'inline_1777.png': (384, 1040), 'xline_983.png': (384, 2226), 'inline_3361.png': (384, 968), 'xline_2195.png': (384, 871), 'inline_3662.png': (384, 425), 'inline_3286.png': (384, 968), 'inline_3155.png': (384, 1352), 'inline_1950.png': (384, 1000), 'inline_2033.png': (384, 976), 'inline_3146.png': (384, 1352), 'inline_2485.png': (384, 1656), 'xline_1474.png': (384, 1888), 'xline_2377.png': (384, 832), 'xline_1060.png': (384, 2670), 'inline_2140.png': (384, 1224), 'xline_855.png': (384, 2016), 'xline_2203.png': (384, 871), 'inline_2911.png': (384, 1536), 'inline_867.png': (384, 672), 'inline_1011.png': (384, 672), 'inline_3502.png': (384, 968), 'xline_900.png': (384, 2196), 'xline_1738.png': (384, 1575), 'inline_1879.png': (384, 1024), 'inline_1167.png': (384, 768), 'xline_1598.png': (384, 1623), 'inline_1211.png': (384, 768), 'xline_2241.png': (384, 871), 'xline_875.png': (384, 2106), 'inline_2339.png': (384, 1696), 'inline_3110.png': (384, 1352), 'inline_923.png': (384, 672), 'inline_2768.png': (384, 1576), 'inline_1763.png': (384, 1040), 'xline_709.png': (384, 1270), 'xline_2216.png': (384, 871), 'inline_3518.png': (384, 968), 'xline_1893.png': (384, 1527), 'inline_3159.png': (384, 1352), 'inline_3319.png': (384, 968), 'inline_2060.png': (384, 1067), 'xline_2142.png': (384, 903), 'inline_1216.png': (384, 768), 'inline_1231.png': (384, 768), 'inline_2812.png': (384, 1568), 'xline_1208.png': (384, 2710), 'inline_2671.png': (384, 1608), 'xline_774.png': (384, 1734), 'xline_528.png': (384, 624), 'xline_1117.png': (384, 2710), 'xline_637.png': (384, 1012), 'xline_982.png': (384, 2226), 'inline_929.png': (384, 672), 'inline_1282.png': (384, 768), 'inline_1190.png': (384, 768), 'inline_2337.png': (384, 1696), 'xline_712.png': (384, 1270), 'inline_2612.png': (384, 1624), 'inline_2704.png': (384, 1600), 'inline_1557.png': (384, 768), 'xline_876.png': (384, 2106), 'xline_976.png': (384, 2226), 'xline_1668.png': (384, 1623), 'inline_3528.png': (384, 960), 'inline_1158.png': (384, 768), 'inline_864.png': (384, 672), 'xline_2190.png': (384, 871), 'inline_2673.png': (384, 1608), 'xline_1614.png': (384, 1623), 'inline_2315.png': (384, 1656), 'inline_2680.png': (384, 1600), 'xline_2313.png': (384, 856), 'inline_2080.png': (384, 1083), 'inline_2002.png': (384, 984), 'inline_2872.png': (384, 1552), 'xline_562.png': (384, 760), 'inline_1598.png': (384, 768), 'inline_2067.png': (384, 1088), 'xline_583.png': (384, 820), 'inline_1971.png': (384, 992), 'inline_2367.png': (384, 1688), 'inline_2938.png': (384, 1528), 'xline_1566.png': (384, 1882), 'inline_2816.png': (384, 1560), 'inline_871.png': (384, 672), 'inline_2068.png': (384, 1088), 'inline_2186.png': (384, 1328), 'inline_3037.png': (384, 1504), 'inline_2064.png': (384, 1067), 'inline_1977.png': (384, 984), 'xline_1985.png': (384, 1487), 'inline_2668.png': (384, 1608), 'xline_1871.png': (384, 1535), 'xline_812.png': (384, 1878), 'inline_1640.png': (384, 768), 'inline_2952.png': (384, 1528), 'inline_1760.png': (384, 1040), 'xline_1653.png': (384, 1623), 'inline_2143.png': (384, 1224), 'inline_3032.png': (384, 1504), 'inline_1534.png': (384, 768), 'inline_948.png': (384, 672), 'xline_2088.png': (384, 943), 'inline_2870.png': (384, 1552), 'xline_1424.png': (384, 1888), 'xline_1583.png': (384, 1882), 'inline_1272.png': (384, 768), 'xline_2159.png': (384, 903), 'inline_905.png': (384, 672), 'inline_3321.png': (384, 968), 'xline_2095.png': (384, 943), 'inline_1103.png': (384, 880), 'inline_2547.png': (384, 1640), 'xline_1521.png': (384, 1888), 'inline_936.png': (384, 672), 'inline_2567.png': (384, 1640), 'inline_2415.png': (384, 1680), 'xline_571.png': (384, 796), 'inline_1372.png': (384, 768), 'inline_3345.png': (384, 968), 'xline_818.png': (384, 1902), 'xline_2261.png': (384, 871), 'inline_1468.png': (384, 768), 'inline_1874.png': (384, 1024), 'inline_1776.png': (384, 1040), 'inline_3111.png': (384, 1352), 'xline_1699.png': (384, 1607), 'inline_2448.png': (384, 1672), 'inline_1353.png': (384, 768), 'inline_3233.png': (384, 968), 'inline_1469.png': (384, 768), 'inline_3292.png': (384, 968), 'inline_3229.png': (384, 968), 'xline_1890.png': (384, 1527), 'inline_3195.png': (384, 968), 'xline_944.png': (384, 2226), 'xline_652.png': (384, 1072), 'xline_1194.png': (384, 2710), 'inline_2123.png': (384, 1176), 'xline_1822.png': (384, 1543), 'inline_2953.png': (384, 1528), 'xline_974.png': (384, 2226), 'inline_1556.png': (384, 768), 'inline_1088.png': (384, 672), 'xline_1045.png': (384, 2226), 'inline_3567.png': (384, 936), 'inline_1484.png': (384, 768), 'xline_1491.png': (384, 1888), 'inline_3644.png': (384, 425), 'inline_3296.png': (384, 968), 'inline_1471.png': (384, 768), 'xline_790.png': (384, 1788), 'inline_2895.png': (384, 1544), 'xline_554.png': (384, 724), 'xline_1022.png': (384, 2226), 'xline_1099.png': (384, 2710), 'inline_1947.png': (384, 1000), 'inline_2504.png': (384, 1656), 'inline_1414.png': (384, 768), 'inline_2599.png': (384, 1624), 'xline_934.png': (384, 2226), 'inline_2662.png': (384, 1608), 'inline_1380.png': (384, 768), 'inline_3036.png': (384, 1504), 'inline_2345.png': (384, 1696), 'xline_2026.png': (384, 949), 'xline_2170.png': (384, 903), 'inline_1803.png': (384, 1040), 'inline_3132.png': (384, 1352), 'inline_2633.png': (384, 1616), 'inline_900.png': (384, 672), 'inline_2779.png': (384, 1576), 'inline_1028.png': (384, 672), 'xline_899.png': (384, 2196), 'inline_3665.png': (384, 425), 'inline_1068.png': (384, 672), 'inline_2733.png': (384, 1592), 'inline_3593.png': (384, 425), 'inline_1016.png': (384, 672), 'xline_834.png': (384, 1956), 'xline_1011.png': (384, 2226), 'inline_970.png': (384, 672), 'xline_926.png': (384, 2226), 'xline_1233.png': (384, 2710), 'inline_3617.png': (384, 425), 'xline_2127.png': (384, 935), 'inline_1108.png': (384, 880), 'inline_866.png': (384, 672), 'inline_2727.png': (384, 1592), 'xline_1266.png': (384, 2710), 'xline_1165.png': (384, 2710), 'xline_567.png': (384, 760), 'xline_1548.png': (384, 1888), 'inline_2071.png': (384, 1088), 'xline_1897.png': (384, 1519), 'xline_1157.png': (384, 2710), 'xline_1564.png': (384, 1882), 'inline_987.png': (384, 672), 'inline_1567.png': (384, 768), 'xline_1978.png': (384, 1487), 'inline_2913.png': (384, 1536), 'inline_953.png': (384, 672), 'inline_3520.png': (384, 968), 'inline_3606.png': (384, 425), 'inline_3134.png': (384, 1352), 'xline_2269.png': (384, 871), 'inline_3084.png': (384, 1496), 'inline_2050.png': (384, 1066), 'inline_1065.png': (384, 672), 'xline_664.png': (384, 1096), 'inline_1651.png': (384, 768), 'xline_775.png': (384, 1734), 'xline_1613.png': (384, 1623), 'inline_2100.png': (384, 1128), 'xline_558.png': (384, 724), 'inline_2792.png': (384, 1568), 'xline_838.png': (384, 1956), 'inline_3215.png': (384, 968), 'inline_1262.png': (384, 768), 'inline_2395.png': (384, 1680), 'inline_2196.png': (384, 1328), 'inline_1431.png': (384, 768), 'xline_1929.png': (384, 1511), 'inline_2302.png': (384, 1608), 'xline_1927.png': (384, 1511), 'inline_2065.png': (384, 1088), 'xline_2301.png': (384, 871), 'inline_2817.png': (384, 1560), 'inline_1931.png': (384, 1008), 'inline_2536.png': (384, 1648), 'inline_3243.png': (384, 968), 'inline_2824.png': (384, 1560), 'xline_1886.png': (384, 1527), 'xline_1573.png': (384, 1882), 'xline_1919.png': (384, 1519), 'inline_3090.png': (384, 1352), 'xline_1422.png': (384, 1888), 'inline_3309.png': (384, 968), 'xline_1812.png': (384, 1551), 'inline_2015.png': (384, 976), 'inline_2591.png': (384, 1632), 'inline_1899.png': (384, 1016), 'inline_1306.png': (384, 768), 'inline_2598.png': (384, 1624), 'inline_2210.png': (384, 1320), 'xline_1527.png': (384, 1888), 'xline_2032.png': (384, 949), 'xline_1425.png': (384, 1888), 'inline_3389.png': (384, 968), 'inline_2635.png': (384, 1616), 'inline_2156.png': (384, 1272), 'inline_3115.png': (384, 1352), 'inline_3530.png': (384, 952), 'inline_2794.png': (384, 1568), 'xline_675.png': (384, 1150), 'inline_2750.png': (384, 1584), 'inline_3026.png': (384, 1504), 'inline_1715.png': (384, 1040), 'xline_906.png': (384, 2226), 'xline_646.png': (384, 1042), 'xline_585.png': (384, 844), 'inline_1835.png': (384, 1032), 'xline_2277.png': (384, 871), 'xline_803.png': (384, 1848), 'xline_1787.png': (384, 1551), 'inline_1182.png': (384, 768), 'xline_1568.png': (384, 1882), 'xline_1515.png': (384, 1888), 'inline_984.png': (384, 672), 'xline_1546.png': (384, 1888), 'inline_965.png': (384, 672), 'inline_3199.png': (384, 968), 'xline_1160.png': (384, 2710), 'xline_1695.png': (384, 1607), 'inline_1995.png': (384, 984), 'xline_815.png': (384, 1878), 'xline_1032.png': (384, 2226), 'xline_1033.png': (384, 2226), 'xline_601.png': (384, 886), 'inline_3624.png': (384, 425), 'inline_2874.png': (384, 1552), 'xline_1744.png': (384, 1575), 'inline_2018.png': (384, 976), 'inline_3448.png': (384, 968), 'xline_769.png': (384, 1734), 'inline_955.png': (384, 672), 'inline_1992.png': (384, 984), 'inline_1916.png': (384, 1008), 'inline_2351.png': (384, 1696), 'inline_2531.png': (384, 1648), 'inline_1911.png': (384, 1008), 'inline_1311.png': (384, 768), 'inline_1476.png': (384, 768), 'xline_681.png': (384, 1180), 'xline_1498.png': (384, 1888), 'xline_814.png': (384, 1878), 'xline_1928.png': (384, 1511), 'inline_2873.png': (384, 1552), 'inline_2677.png': (384, 1600), 'inline_1646.png': (384, 768), 'inline_3517.png': (384, 968), 'xline_1965.png': (384, 1487), 'inline_2001.png': (384, 984), 'inline_1954.png': (384, 992), 'inline_2915.png': (384, 1536), 'inline_1550.png': (384, 768), 'xline_865.png': (384, 2076), 'inline_1489.png': (384, 768), 'inline_3585.png': (384, 425), 'inline_3454.png': (384, 968), 'inline_1714.png': (384, 1040), 'inline_2718.png': (384, 1592), 'inline_1107.png': (384, 880), 'inline_962.png': (384, 672), 'inline_1854.png': (384, 1024), 'inline_2497.png': (384, 1656), 'xline_2300.png': (384, 871), 'xline_1039.png': (384, 2226), 'xline_2376.png': (384, 832), 'inline_2996.png': (384, 1512), 'inline_2649.png': (384, 1608), 'inline_1393.png': (384, 768), 'inline_1021.png': (384, 672), 'inline_1999.png': (384, 984), 'inline_2783.png': (384, 1576), 'inline_3130.png': (384, 1352), 'inline_2594.png': (384, 1624), 'xline_1115.png': (384, 2710), 'inline_2396.png': (384, 1680), 'inline_3608.png': (384, 425), 'inline_1672.png': (384, 768), 'xline_2064.png': (384, 949), 'inline_3181.png': (384, 968), 'xline_928.png': (384, 2226), 'inline_1056.png': (384, 672), 'xline_1251.png': (384, 2710), 'inline_3262.png': (384, 968), 'xline_1486.png': (384, 1888), 'xline_623.png': (384, 964), 'xline_1884.png': (384, 1527), 'inline_880.png': (384, 672), 'inline_3359.png': (384, 968), 'xline_946.png': (384, 2226), 'inline_2271.png': (384, 1495), 'xline_1124.png': (384, 2710), 'inline_3070.png': (384, 1496), 'xline_1130.png': (384, 2710), 'inline_1342.png': (384, 768), 'inline_2303.png': (384, 1608), 'xline_807.png': (384, 1848), 'inline_1359.png': (384, 768), 'inline_2165.png': (384, 1288), 'inline_2138.png': (384, 1224), 'inline_1074.png': (384, 672), 'xline_2194.png': (384, 871), 'inline_1783.png': (384, 1040), 'inline_2683.png': (384, 1600), 'inline_2621.png': (384, 1616), 'xline_1451.png': (384, 1888), 'inline_2432.png': (384, 1672), 'inline_1020.png': (384, 672), 'inline_2636.png': (384, 1616), 'xline_1751.png': (384, 1575), 'xline_2105.png': (384, 935), 'xline_1133.png': (384, 2710), 'inline_2663.png': (384, 1608), 'xline_886.png': (384, 2136), 'inline_3581.png': (384, 425), 'inline_2205.png': (384, 1328), 'xline_2126.png': (384, 935), 'xline_1974.png': (384, 1487), 'inline_2247.png': (384, 1453), 'xline_2136.png': (384, 903), 'xline_796.png': (384, 1818), 'inline_2687.png': (384, 1600), 'inline_3127.png': (384, 1352), 'inline_2242.png': (384, 1453), 'xline_1237.png': (384, 2710), 'inline_3576.png': (384, 425), 'xline_2012.png': (384, 1461), 'inline_1307.png': (384, 768), 'inline_2637.png': (384, 1616), 'xline_1966.png': (384, 1487), 'inline_1085.png': (384, 672), 'xline_1900.png': (384, 1519), 'xline_1038.png': (384, 2226), 'inline_1970.png': (384, 992), 'inline_1614.png': (384, 768), 'xline_1070.png': (384, 2686), 'inline_1349.png': (384, 768), 'inline_1627.png': (384, 768), 'inline_1146.png': (384, 768), 'xline_1531.png': (384, 1888), 'xline_1791.png': (384, 1551), 'inline_2201.png': (384, 1328), 'xline_2234.png': (384, 871), 'inline_2858.png': (384, 1552), 'xline_2205.png': (384, 871), 'inline_3495.png': (384, 968), 'inline_2195.png': (384, 1328), 'inline_1184.png': (384, 768), 'inline_2399.png': (384, 1680), 'inline_3527.png': (384, 960), 'inline_3272.png': (384, 968), 'xline_1510.png': (384, 1888), 'inline_2493.png': (384, 1656), 'xline_1861.png': (384, 1535), 'inline_2740.png': (384, 1584), 'xline_1825.png': (384, 1543), 'xline_1396.png': (384, 1888), 'inline_1481.png': (384, 768), 'inline_2323.png': (384, 1663), 'xline_1778.png': (384, 1567), 'inline_2350.png': (384, 1696), 'xline_1640.png': (384, 1623), 'xline_1260.png': (384, 2710), 'inline_1622.png': (384, 768), 'inline_925.png': (384, 672), 'xline_1429.png': (384, 1888), 'inline_1386.png': (384, 768), 'inline_2686.png': (384, 1600), 'xline_940.png': (384, 2226), 'xline_2397.png': (384, 832), 'inline_2930.png': (384, 1536), 'xline_510.png': (384, 624), 'inline_3219.png': (384, 968), 'inline_1596.png': (384, 768), 'inline_2185.png': (384, 1328), 'xline_1934.png': (384, 1511), 'xline_1958.png': (384, 1487), 'inline_1092.png': (384, 880), 'xline_1077.png': (384, 2694), 'inline_1671.png': (384, 768), 'xline_959.png': (384, 2226), 'xline_1063.png': (384, 2670), 'inline_1235.png': (384, 768), 'inline_1658.png': (384, 768), 'inline_2387.png': (384, 1688), 'inline_1341.png': (384, 768), 'inline_2366.png': (384, 1688), 'inline_2411.png': (384, 1680), 'xline_1944.png': (384, 1511), 'inline_917.png': (384, 672), 'inline_1391.png': (384, 768), 'inline_1382.png': (384, 768), 'inline_2985.png': (384, 1520), 'xline_1080.png': (384, 2694), 'inline_1618.png': (384, 768), 'xline_2361.png': (384, 832), 'inline_2326.png': (384, 1663), 'xline_1772.png': (384, 1567), 'inline_1812.png': (384, 1040), 'inline_1010.png': (384, 672), 'inline_1169.png': (384, 768), 'inline_1634.png': (384, 768), 'inline_1285.png': (384, 768), 'inline_3396.png': (384, 968), 'inline_1644.png': (384, 768), 'xline_755.png': (384, 1680), 'inline_3601.png': (384, 425), 'xline_1854.png': (384, 1535), 'inline_1263.png': (384, 768), 'inline_1300.png': (384, 768), 'xline_1646.png': (384, 1623), 'xline_1801.png': (384, 1551), 'xline_1040.png': (384, 2226), 'xline_2276.png': (384, 871), 'inline_1908.png': (384, 1016), 'xline_741.png': (384, 1620), 'xline_593.png': (384, 862), 'xline_507.png': (384, 624), 'inline_2070.png': (384, 1088), 'inline_2162.png': (384, 1288), 'xline_1877.png': (384, 1527), 'inline_950.png': (384, 672), 'inline_2722.png': (384, 1592), 'inline_2940.png': (384, 1528), 'inline_3553.png': (384, 936), 'xline_1175.png': (384, 2710), 'xline_1698.png': (384, 1607), 'xline_2226.png': (384, 871), 'xline_2255.png': (384, 871), 'xline_964.png': (384, 2226), 'xline_1212.png': (384, 2710), 'inline_2773.png': (384, 1576), 'xline_1570.png': (384, 1882), 'inline_2273.png': (384, 1495), 'inline_2282.png': (384, 1495), 'inline_2676.png': (384, 1608), 'inline_1769.png': (384, 1040), 'xline_2160.png': (384, 903), 'xline_1465.png': (384, 1888), 'xline_1940.png': (384, 1511), 'xline_1010.png': (384, 2226), 'inline_2912.png': (384, 1536), 'xline_718.png': (384, 1530), 'inline_2545.png': (384, 1640), 'xline_2293.png': (384, 871), 'inline_2517.png': (384, 1648), 'inline_1847.png': (384, 1032), 'xline_2339.png': (384, 847), 'inline_2427.png': (384, 1672), 'inline_1692.png': (384, 1088), 'xline_1389.png': (384, 1888), 'xline_1270.png': (384, 2710), 'inline_3351.png': (384, 968), 'xline_2004.png': (384, 1461), 'inline_2955.png': (384, 1528), 'inline_1041.png': (384, 672), 'xline_1096.png': (384, 2710), 'inline_2413.png': (384, 1680), 'xline_955.png': (384, 2226), 'xline_708.png': (384, 1270), 'xline_1972.png': (384, 1487), 'inline_2869.png': (384, 1552), 'xline_1091.png': (384, 2710), 'xline_1851.png': (384, 1535), 'inline_3569.png': (384, 425), 'xline_609.png': (384, 922), 'inline_2014.png': (384, 976), 'inline_3489.png': (384, 968), 'inline_1248.png': (384, 768), 'inline_1223.png': (384, 768), 'xline_1466.png': (384, 1888), 'inline_2946.png': (384, 1528), 'xline_2029.png': (384, 949), 'inline_2978.png': (384, 1520), 'inline_1194.png': (384, 768), 'inline_3133.png': (384, 1352), 'inline_1790.png': (384, 1040), 'inline_1892.png': (384, 1016), 'xline_2242.png': (384, 871), 'inline_2391.png': (384, 1680), 'inline_1804.png': (384, 1040), 'xline_615.png': (384, 922), 'inline_1996.png': (384, 984), 'inline_2761.png': (384, 1576), 'xline_1643.png': (384, 1623), 'inline_1863.png': (384, 1024), 'inline_1089.png': (384, 880), 'inline_3256.png': (384, 968), 'xline_721.png': (384, 1560), 'inline_1373.png': (384, 768), 'inline_3271.png': (384, 968), 'inline_3300.png': (384, 968), 'xline_1442.png': (384, 1888), 'inline_1782.png': (384, 1040), 'inline_2894.png': (384, 1544), 'xline_1073.png': (384, 2694), 'inline_1505.png': (384, 768), 'inline_1736.png': (384, 1040), 'xline_2307.png': (384, 856), 'inline_2292.png': (384, 1616), 'inline_3614.png': (384, 425), 'inline_1150.png': (384, 768), 'inline_1539.png': (384, 768), 'inline_2891.png': (384, 1544), 'inline_2238.png': (384, 1461), 'inline_1293.png': (384, 768), 'inline_1352.png': (384, 768), 'xline_1581.png': (384, 1882), 'inline_2306.png': (384, 1639), 'xline_2249.png': (384, 871), 'xline_844.png': (384, 1986), 'inline_2336.png': (384, 1696), 'xline_1816.png': (384, 1551), 'inline_3168.png': (384, 968), 'inline_3162.png': (384, 968), 'xline_1502.png': (384, 1888), 'inline_3276.png': (384, 968), 'inline_2535.png': (384, 1648), 'xline_1020.png': (384, 2226), 'inline_2466.png': (384, 1664), 'xline_1469.png': (384, 1888), 'inline_2209.png': (384, 1320), 'inline_3335.png': (384, 968), 'inline_2780.png': (384, 1576), 'inline_2650.png': (384, 1608), 'xline_509.png': (384, 624), 'inline_2661.png': (384, 1608), 'xline_594.png': (384, 862), 'xline_1052.png': (384, 2662), 'inline_2034.png': (384, 976), 'inline_3600.png': (384, 425), 'inline_3435.png': (384, 968), 'inline_1503.png': (384, 768), 'inline_2751.png': (384, 1584), 'inline_1370.png': (384, 768), 'xline_589.png': (384, 844), 'inline_2102.png': (384, 1120), 'inline_3259.png': (384, 968), 'xline_750.png': (384, 1650), 'inline_2652.png': (384, 1608), 'inline_1170.png': (384, 768), 'inline_2125.png': (384, 1176), 'inline_2113.png': (384, 1144), 'xline_2048.png': (384, 949), 'inline_1723.png': (384, 1040), 'inline_3340.png': (384, 968), 'xline_2065.png': (384, 949), 'inline_906.png': (384, 672), 'inline_2104.png': (384, 1120), 'inline_1308.png': (384, 768), 'inline_883.png': (384, 672), 'xline_1065.png': (384, 2686), 'inline_1142.png': (384, 768), 'inline_2525.png': (384, 1648), 'xline_1588.png': (384, 1882), 'inline_2309.png': (384, 1639), 'inline_1762.png': (384, 1040), 'inline_3282.png': (384, 968), 'xline_2042.png': (384, 949), 'inline_1441.png': (384, 768), 'xline_679.png': (384, 1150), 'xline_2342.png': (384, 847), 'xline_2119.png': (384, 935), 'xline_2239.png': (384, 871), 'inline_2729.png': (384, 1592), 'xline_546.png': (384, 624), 'inline_2943.png': (384, 1528), 'inline_2559.png': (384, 1640), 'inline_2725.png': (384, 1592), 'inline_2134.png': (384, 1200), 'xline_2363.png': (384, 832), 'inline_2981.png': (384, 1520), 'inline_3511.png': (384, 968), 'xline_1205.png': (384, 2710), 'inline_1140.png': (384, 768), 'inline_2215.png': (384, 1400), 'inline_1817.png': (384, 1032), 'xline_595.png': (384, 862), 'inline_1242.png': (384, 768), 'inline_3290.png': (384, 968), 'inline_1283.png': (384, 768), 'xline_851.png': (384, 2016), 'inline_2964.png': (384, 1528), 'inline_1033.png': (384, 672), 'xline_703.png': (384, 1239), 'inline_2363.png': (384, 1688), 'xline_2166.png': (384, 903), 'inline_2726.png': (384, 1592), 'xline_605.png': (384, 886), 'inline_2216.png': (384, 1400), 'inline_2554.png': (384, 1640), 'inline_3006.png': (384, 1512), 'inline_2608.png': (384, 1624), 'xline_1004.png': (384, 2226), 'xline_1725.png': (384, 1591), 'xline_2283.png': (384, 871), 'inline_2463.png': (384, 1664), 'inline_1119.png': (384, 880), 'xline_1193.png': (384, 2710), 'inline_886.png': (384, 672), 'xline_2121.png': (384, 935), 'inline_1639.png': (384, 768), 'inline_1015.png': (384, 672), 'inline_2511.png': (384, 1648), 'xline_1511.png': (384, 1888), 'inline_1464.png': (384, 768), 'inline_1940.png': (384, 1000), 'xline_671.png': (384, 1120), 'xline_1522.png': (384, 1888), 'inline_3418.png': (384, 968), 'inline_2132.png': (384, 1200), 'inline_2105.png': (384, 1144), 'inline_2404.png': (384, 1680), 'inline_2474.png': (384, 1664), 'inline_3473.png': (384, 968), 'inline_1735.png': (384, 1040), 'inline_1344.png': (384, 768), 'inline_2510.png': (384, 1648), 'inline_3042.png': (384, 1504), 'inline_2211.png': (384, 1400), 'inline_1839.png': (384, 1032), 'inline_2628.png': (384, 1616), 'inline_1433.png': (384, 768), 'inline_1838.png': (384, 1032), 'inline_1559.png': (384, 768), 'xline_2013.png': (384, 1461), 'inline_2881.png': (384, 1544), 'xline_1989.png': (384, 1487), 'inline_981.png': (384, 672), 'inline_1699.png': (384, 1088), 'inline_3086.png': (384, 1352), 'xline_883.png': (384, 2136), 'xline_1596.png': (384, 1623), 'inline_3112.png': (384, 1352), 'inline_2847.png': (384, 1552), 'xline_1959.png': (384, 1487), 'inline_3607.png': (384, 425), 'inline_2969.png': (384, 1520), 'inline_3368.png': (384, 968), 'xline_523.png': (384, 624), 'xline_1768.png': (384, 1567), 'inline_3274.png': (384, 968)}\n"
          ]
        }
      ],
      "source": [
        "img_names = test.ImageId.values\n",
        "shapes = {name: cv2.imread(os.path.join(TEST_PATH, name), 0).shape for name in img_names}\n",
        "print(shapes)"
      ]
    },
    {
      "cell_type": "code",
      "execution_count": null,
      "metadata": {
        "id": "nJqVBcF8yjZe",
        "colab": {
          "base_uri": "https://localhost:8080/",
          "height": 101,
          "referenced_widgets": [
            "11cdcd2c4edc47eabf3a6491be206a19",
            "78a7534dfbdf403283d84eb515e90ad8",
            "6feabe750e18462babab50d0f99e3f89",
            "0f1a00892200419ea03a28e56d7f9612",
            "aca18f1632434da0bfa0dd9e461fe837",
            "b93cc4eeb5f548dbbd1f0b4edab9b2b2",
            "332e84337b684d28935de6342de23fc0",
            "f170739527fa4bb294263501640b9614",
            "2cfc287aed8d4ade9c86e8d920a22391",
            "fa208022abab4c9f85a57c2d99287eef",
            "0c4b71361f2541ccba4e883c15360994"
          ]
        },
        "outputId": "c6a56704-669b-453b-d978-b2abada3ca7b"
      },
      "outputs": [
        {
          "output_type": "stream",
          "name": "stderr",
          "text": [
            "/usr/local/lib/python3.7/dist-packages/ipykernel_launcher.py:5: TqdmDeprecationWarning: This function will be removed in tqdm==5.0.0\n",
            "Please use `tqdm.notebook.tqdm` instead of `tqdm.tqdm_notebook`\n",
            "  \"\"\"\n"
          ]
        },
        {
          "output_type": "display_data",
          "data": {
            "application/vnd.jupyter.widget-view+json": {
              "model_id": "11cdcd2c4edc47eabf3a6491be206a19",
              "version_minor": 0,
              "version_major": 2
            },
            "text/plain": [
              "  0%|          | 0/344 [00:00<?, ?it/s]"
            ]
          },
          "metadata": {}
        }
      ],
      "source": [
        "all_names = []\n",
        "all_classes = []\n",
        "all_rles = []\n",
        "\n",
        "for i, data in tqdm.tqdm_notebook(enumerate(test_loader), total=len(test_loader)):\n",
        "    inputs = Variable(data['image']).to(device)\n",
        "    outputs = model(inputs)\n",
        "    \n",
        "    out = out2rle(outputs, i)\n",
        "    all_names += out[0]\n",
        "    all_classes += out[1]\n",
        "    all_rles += out[2]"
      ]
    },
    {
      "cell_type": "code",
      "source": [
        "print(len(all_names))\n",
        "print(len(all_classes))\n",
        "print(len(all_rles))"
      ],
      "metadata": {
        "id": "puWCRwmH3Oul",
        "colab": {
          "base_uri": "https://localhost:8080/"
        },
        "outputId": "60b291c1-c880-4e92-d73f-688db43af283"
      },
      "execution_count": null,
      "outputs": [
        {
          "output_type": "stream",
          "name": "stdout",
          "text": [
            "19257\n",
            "19257\n",
            "19257\n"
          ]
        }
      ]
    },
    {
      "cell_type": "code",
      "source": [
        "submission = pd.DataFrame(columns=['ImageId', 'ClassId', 'EncodedPixels'])\n",
        "submission['ImageId'] = all_names\n",
        "submission['ClassId'] = all_classes\n",
        "submission['EncodedPixels'] = all_rles\n",
        "submission = submission.sort_values(by=['ImageId', 'ClassId'])\n",
        "submission.to_csv('/content/drive/MyDrive/Colab Notebooks/rosneft/submission.csv', index=False)\n",
        "print(submission.head())\n",
        "print(len(submission))"
      ],
      "metadata": {
        "id": "bsW_o7wNFrOr",
        "colab": {
          "base_uri": "https://localhost:8080/"
        },
        "outputId": "af9b892c-f375-4303-e63e-97517d8bc53c"
      },
      "execution_count": null,
      "outputs": [
        {
          "output_type": "stream",
          "name": "stdout",
          "text": [
            "              ImageId  ClassId  \\\n",
            "1008  inline_1002.png        0   \n",
            "1009  inline_1002.png        1   \n",
            "1010  inline_1002.png        2   \n",
            "1011  inline_1002.png        3   \n",
            "1012  inline_1002.png        4   \n",
            "\n",
            "                                          EncodedPixels  \n",
            "1008  96 95 480 95 864 95 1248 95 1632 95 2016 94 24...  \n",
            "1009  191 4 575 4 959 5 1343 4 1727 4 2110 5 2494 5 ...  \n",
            "1010  195 14 579 14 964 13 1347 14 1731 14 2115 14 2...  \n",
            "1011  977 1 1361 1 1745 1 2129 1 2513 1 2897 1 3281 ...  \n",
            "1012  210 20 594 20 978 20 1362 20 1746 20 2130 20 2...  \n",
            "19257\n"
          ]
        }
      ]
    }
  ],
  "metadata": {
    "colab": {
      "collapsed_sections": [],
      "name": "seismic_challenge_baseline_rosneft_last.ipynb",
      "provenance": [],
      "toc_visible": true
    },
    "kernelspec": {
      "display_name": "Python 3",
      "language": "python",
      "name": "python3"
    },
    "language_info": {
      "codemirror_mode": {
        "name": "ipython",
        "version": 3
      },
      "file_extension": ".py",
      "mimetype": "text/x-python",
      "name": "python",
      "nbconvert_exporter": "python",
      "pygments_lexer": "ipython3",
      "version": "3.7.1"
    },
    "widgets": {
      "application/vnd.jupyter.widget-state+json": {
        "0329a8b7c3ef44018bbed444bd45e092": {
          "model_module": "@jupyter-widgets/controls",
          "model_name": "HBoxModel",
          "model_module_version": "1.5.0",
          "state": {
            "_view_name": "HBoxView",
            "_dom_classes": [],
            "_model_name": "HBoxModel",
            "_view_module": "@jupyter-widgets/controls",
            "_model_module_version": "1.5.0",
            "_view_count": null,
            "_view_module_version": "1.5.0",
            "box_style": "",
            "layout": "IPY_MODEL_d1bc49a708764b01a13ca77ffe8d04be",
            "_model_module": "@jupyter-widgets/controls",
            "children": [
              "IPY_MODEL_b066ef85d5f04d07ac834454894bfa20",
              "IPY_MODEL_a5e443c4ad044a269b27822845627831",
              "IPY_MODEL_7872caf89ea644e08038529f44fb9b31"
            ]
          }
        },
        "d1bc49a708764b01a13ca77ffe8d04be": {
          "model_module": "@jupyter-widgets/base",
          "model_name": "LayoutModel",
          "model_module_version": "1.2.0",
          "state": {
            "_view_name": "LayoutView",
            "grid_template_rows": null,
            "right": null,
            "justify_content": null,
            "_view_module": "@jupyter-widgets/base",
            "overflow": null,
            "_model_module_version": "1.2.0",
            "_view_count": null,
            "flex_flow": null,
            "width": null,
            "min_width": null,
            "border": null,
            "align_items": null,
            "bottom": null,
            "_model_module": "@jupyter-widgets/base",
            "top": null,
            "grid_column": null,
            "overflow_y": null,
            "overflow_x": null,
            "grid_auto_flow": null,
            "grid_area": null,
            "grid_template_columns": null,
            "flex": null,
            "_model_name": "LayoutModel",
            "justify_items": null,
            "grid_row": null,
            "max_height": null,
            "align_content": null,
            "visibility": null,
            "align_self": null,
            "height": null,
            "min_height": null,
            "padding": null,
            "grid_auto_rows": null,
            "grid_gap": null,
            "max_width": null,
            "order": null,
            "_view_module_version": "1.2.0",
            "grid_template_areas": null,
            "object_position": null,
            "object_fit": null,
            "grid_auto_columns": null,
            "margin": null,
            "display": null,
            "left": null
          }
        },
        "b066ef85d5f04d07ac834454894bfa20": {
          "model_module": "@jupyter-widgets/controls",
          "model_name": "HTMLModel",
          "model_module_version": "1.5.0",
          "state": {
            "_view_name": "HTMLView",
            "style": "IPY_MODEL_1b0724911e5b4698ad63a1810c2b0c35",
            "_dom_classes": [],
            "description": "",
            "_model_name": "HTMLModel",
            "placeholder": "​",
            "_view_module": "@jupyter-widgets/controls",
            "_model_module_version": "1.5.0",
            "value": "100%",
            "_view_count": null,
            "_view_module_version": "1.5.0",
            "description_tooltip": null,
            "_model_module": "@jupyter-widgets/controls",
            "layout": "IPY_MODEL_fddd7604053d4b4ab9dc0c82ac1f0c8f"
          }
        },
        "a5e443c4ad044a269b27822845627831": {
          "model_module": "@jupyter-widgets/controls",
          "model_name": "FloatProgressModel",
          "model_module_version": "1.5.0",
          "state": {
            "_view_name": "ProgressView",
            "style": "IPY_MODEL_7cfa9bdf9b164203a2d01b58e44c1405",
            "_dom_classes": [],
            "description": "",
            "_model_name": "FloatProgressModel",
            "bar_style": "success",
            "max": 80,
            "_view_module": "@jupyter-widgets/controls",
            "_model_module_version": "1.5.0",
            "value": 80,
            "_view_count": null,
            "_view_module_version": "1.5.0",
            "orientation": "horizontal",
            "min": 0,
            "description_tooltip": null,
            "_model_module": "@jupyter-widgets/controls",
            "layout": "IPY_MODEL_d3c8db580cac461781706ead0552bc37"
          }
        },
        "7872caf89ea644e08038529f44fb9b31": {
          "model_module": "@jupyter-widgets/controls",
          "model_name": "HTMLModel",
          "model_module_version": "1.5.0",
          "state": {
            "_view_name": "HTMLView",
            "style": "IPY_MODEL_b5a4b5dcdf00400b808d3da67618ec7d",
            "_dom_classes": [],
            "description": "",
            "_model_name": "HTMLModel",
            "placeholder": "​",
            "_view_module": "@jupyter-widgets/controls",
            "_model_module_version": "1.5.0",
            "value": " 80/80 [41:52&lt;00:00, 34.54s/it]",
            "_view_count": null,
            "_view_module_version": "1.5.0",
            "description_tooltip": null,
            "_model_module": "@jupyter-widgets/controls",
            "layout": "IPY_MODEL_a19423137a674d84ac8418b3e90ed840"
          }
        },
        "1b0724911e5b4698ad63a1810c2b0c35": {
          "model_module": "@jupyter-widgets/controls",
          "model_name": "DescriptionStyleModel",
          "model_module_version": "1.5.0",
          "state": {
            "_view_name": "StyleView",
            "_model_name": "DescriptionStyleModel",
            "description_width": "",
            "_view_module": "@jupyter-widgets/base",
            "_model_module_version": "1.5.0",
            "_view_count": null,
            "_view_module_version": "1.2.0",
            "_model_module": "@jupyter-widgets/controls"
          }
        },
        "fddd7604053d4b4ab9dc0c82ac1f0c8f": {
          "model_module": "@jupyter-widgets/base",
          "model_name": "LayoutModel",
          "model_module_version": "1.2.0",
          "state": {
            "_view_name": "LayoutView",
            "grid_template_rows": null,
            "right": null,
            "justify_content": null,
            "_view_module": "@jupyter-widgets/base",
            "overflow": null,
            "_model_module_version": "1.2.0",
            "_view_count": null,
            "flex_flow": null,
            "width": null,
            "min_width": null,
            "border": null,
            "align_items": null,
            "bottom": null,
            "_model_module": "@jupyter-widgets/base",
            "top": null,
            "grid_column": null,
            "overflow_y": null,
            "overflow_x": null,
            "grid_auto_flow": null,
            "grid_area": null,
            "grid_template_columns": null,
            "flex": null,
            "_model_name": "LayoutModel",
            "justify_items": null,
            "grid_row": null,
            "max_height": null,
            "align_content": null,
            "visibility": null,
            "align_self": null,
            "height": null,
            "min_height": null,
            "padding": null,
            "grid_auto_rows": null,
            "grid_gap": null,
            "max_width": null,
            "order": null,
            "_view_module_version": "1.2.0",
            "grid_template_areas": null,
            "object_position": null,
            "object_fit": null,
            "grid_auto_columns": null,
            "margin": null,
            "display": null,
            "left": null
          }
        },
        "7cfa9bdf9b164203a2d01b58e44c1405": {
          "model_module": "@jupyter-widgets/controls",
          "model_name": "ProgressStyleModel",
          "model_module_version": "1.5.0",
          "state": {
            "_view_name": "StyleView",
            "_model_name": "ProgressStyleModel",
            "description_width": "",
            "_view_module": "@jupyter-widgets/base",
            "_model_module_version": "1.5.0",
            "_view_count": null,
            "_view_module_version": "1.2.0",
            "bar_color": null,
            "_model_module": "@jupyter-widgets/controls"
          }
        },
        "d3c8db580cac461781706ead0552bc37": {
          "model_module": "@jupyter-widgets/base",
          "model_name": "LayoutModel",
          "model_module_version": "1.2.0",
          "state": {
            "_view_name": "LayoutView",
            "grid_template_rows": null,
            "right": null,
            "justify_content": null,
            "_view_module": "@jupyter-widgets/base",
            "overflow": null,
            "_model_module_version": "1.2.0",
            "_view_count": null,
            "flex_flow": null,
            "width": null,
            "min_width": null,
            "border": null,
            "align_items": null,
            "bottom": null,
            "_model_module": "@jupyter-widgets/base",
            "top": null,
            "grid_column": null,
            "overflow_y": null,
            "overflow_x": null,
            "grid_auto_flow": null,
            "grid_area": null,
            "grid_template_columns": null,
            "flex": null,
            "_model_name": "LayoutModel",
            "justify_items": null,
            "grid_row": null,
            "max_height": null,
            "align_content": null,
            "visibility": null,
            "align_self": null,
            "height": null,
            "min_height": null,
            "padding": null,
            "grid_auto_rows": null,
            "grid_gap": null,
            "max_width": null,
            "order": null,
            "_view_module_version": "1.2.0",
            "grid_template_areas": null,
            "object_position": null,
            "object_fit": null,
            "grid_auto_columns": null,
            "margin": null,
            "display": null,
            "left": null
          }
        },
        "b5a4b5dcdf00400b808d3da67618ec7d": {
          "model_module": "@jupyter-widgets/controls",
          "model_name": "DescriptionStyleModel",
          "model_module_version": "1.5.0",
          "state": {
            "_view_name": "StyleView",
            "_model_name": "DescriptionStyleModel",
            "description_width": "",
            "_view_module": "@jupyter-widgets/base",
            "_model_module_version": "1.5.0",
            "_view_count": null,
            "_view_module_version": "1.2.0",
            "_model_module": "@jupyter-widgets/controls"
          }
        },
        "a19423137a674d84ac8418b3e90ed840": {
          "model_module": "@jupyter-widgets/base",
          "model_name": "LayoutModel",
          "model_module_version": "1.2.0",
          "state": {
            "_view_name": "LayoutView",
            "grid_template_rows": null,
            "right": null,
            "justify_content": null,
            "_view_module": "@jupyter-widgets/base",
            "overflow": null,
            "_model_module_version": "1.2.0",
            "_view_count": null,
            "flex_flow": null,
            "width": null,
            "min_width": null,
            "border": null,
            "align_items": null,
            "bottom": null,
            "_model_module": "@jupyter-widgets/base",
            "top": null,
            "grid_column": null,
            "overflow_y": null,
            "overflow_x": null,
            "grid_auto_flow": null,
            "grid_area": null,
            "grid_template_columns": null,
            "flex": null,
            "_model_name": "LayoutModel",
            "justify_items": null,
            "grid_row": null,
            "max_height": null,
            "align_content": null,
            "visibility": null,
            "align_self": null,
            "height": null,
            "min_height": null,
            "padding": null,
            "grid_auto_rows": null,
            "grid_gap": null,
            "max_width": null,
            "order": null,
            "_view_module_version": "1.2.0",
            "grid_template_areas": null,
            "object_position": null,
            "object_fit": null,
            "grid_auto_columns": null,
            "margin": null,
            "display": null,
            "left": null
          }
        },
        "11cdcd2c4edc47eabf3a6491be206a19": {
          "model_module": "@jupyter-widgets/controls",
          "model_name": "HBoxModel",
          "model_module_version": "1.5.0",
          "state": {
            "_view_name": "HBoxView",
            "_dom_classes": [],
            "_model_name": "HBoxModel",
            "_view_module": "@jupyter-widgets/controls",
            "_model_module_version": "1.5.0",
            "_view_count": null,
            "_view_module_version": "1.5.0",
            "box_style": "",
            "layout": "IPY_MODEL_78a7534dfbdf403283d84eb515e90ad8",
            "_model_module": "@jupyter-widgets/controls",
            "children": [
              "IPY_MODEL_6feabe750e18462babab50d0f99e3f89",
              "IPY_MODEL_0f1a00892200419ea03a28e56d7f9612",
              "IPY_MODEL_aca18f1632434da0bfa0dd9e461fe837"
            ]
          }
        },
        "78a7534dfbdf403283d84eb515e90ad8": {
          "model_module": "@jupyter-widgets/base",
          "model_name": "LayoutModel",
          "model_module_version": "1.2.0",
          "state": {
            "_view_name": "LayoutView",
            "grid_template_rows": null,
            "right": null,
            "justify_content": null,
            "_view_module": "@jupyter-widgets/base",
            "overflow": null,
            "_model_module_version": "1.2.0",
            "_view_count": null,
            "flex_flow": null,
            "width": null,
            "min_width": null,
            "border": null,
            "align_items": null,
            "bottom": null,
            "_model_module": "@jupyter-widgets/base",
            "top": null,
            "grid_column": null,
            "overflow_y": null,
            "overflow_x": null,
            "grid_auto_flow": null,
            "grid_area": null,
            "grid_template_columns": null,
            "flex": null,
            "_model_name": "LayoutModel",
            "justify_items": null,
            "grid_row": null,
            "max_height": null,
            "align_content": null,
            "visibility": null,
            "align_self": null,
            "height": null,
            "min_height": null,
            "padding": null,
            "grid_auto_rows": null,
            "grid_gap": null,
            "max_width": null,
            "order": null,
            "_view_module_version": "1.2.0",
            "grid_template_areas": null,
            "object_position": null,
            "object_fit": null,
            "grid_auto_columns": null,
            "margin": null,
            "display": null,
            "left": null
          }
        },
        "6feabe750e18462babab50d0f99e3f89": {
          "model_module": "@jupyter-widgets/controls",
          "model_name": "HTMLModel",
          "model_module_version": "1.5.0",
          "state": {
            "_view_name": "HTMLView",
            "style": "IPY_MODEL_b93cc4eeb5f548dbbd1f0b4edab9b2b2",
            "_dom_classes": [],
            "description": "",
            "_model_name": "HTMLModel",
            "placeholder": "​",
            "_view_module": "@jupyter-widgets/controls",
            "_model_module_version": "1.5.0",
            "value": "100%",
            "_view_count": null,
            "_view_module_version": "1.5.0",
            "description_tooltip": null,
            "_model_module": "@jupyter-widgets/controls",
            "layout": "IPY_MODEL_332e84337b684d28935de6342de23fc0"
          }
        },
        "0f1a00892200419ea03a28e56d7f9612": {
          "model_module": "@jupyter-widgets/controls",
          "model_name": "FloatProgressModel",
          "model_module_version": "1.5.0",
          "state": {
            "_view_name": "ProgressView",
            "style": "IPY_MODEL_f170739527fa4bb294263501640b9614",
            "_dom_classes": [],
            "description": "",
            "_model_name": "FloatProgressModel",
            "bar_style": "success",
            "max": 344,
            "_view_module": "@jupyter-widgets/controls",
            "_model_module_version": "1.5.0",
            "value": 344,
            "_view_count": null,
            "_view_module_version": "1.5.0",
            "orientation": "horizontal",
            "min": 0,
            "description_tooltip": null,
            "_model_module": "@jupyter-widgets/controls",
            "layout": "IPY_MODEL_2cfc287aed8d4ade9c86e8d920a22391"
          }
        },
        "aca18f1632434da0bfa0dd9e461fe837": {
          "model_module": "@jupyter-widgets/controls",
          "model_name": "HTMLModel",
          "model_module_version": "1.5.0",
          "state": {
            "_view_name": "HTMLView",
            "style": "IPY_MODEL_fa208022abab4c9f85a57c2d99287eef",
            "_dom_classes": [],
            "description": "",
            "_model_name": "HTMLModel",
            "placeholder": "​",
            "_view_module": "@jupyter-widgets/controls",
            "_model_module_version": "1.5.0",
            "value": " 344/344 [04:29&lt;00:00,  1.36it/s]",
            "_view_count": null,
            "_view_module_version": "1.5.0",
            "description_tooltip": null,
            "_model_module": "@jupyter-widgets/controls",
            "layout": "IPY_MODEL_0c4b71361f2541ccba4e883c15360994"
          }
        },
        "b93cc4eeb5f548dbbd1f0b4edab9b2b2": {
          "model_module": "@jupyter-widgets/controls",
          "model_name": "DescriptionStyleModel",
          "model_module_version": "1.5.0",
          "state": {
            "_view_name": "StyleView",
            "_model_name": "DescriptionStyleModel",
            "description_width": "",
            "_view_module": "@jupyter-widgets/base",
            "_model_module_version": "1.5.0",
            "_view_count": null,
            "_view_module_version": "1.2.0",
            "_model_module": "@jupyter-widgets/controls"
          }
        },
        "332e84337b684d28935de6342de23fc0": {
          "model_module": "@jupyter-widgets/base",
          "model_name": "LayoutModel",
          "model_module_version": "1.2.0",
          "state": {
            "_view_name": "LayoutView",
            "grid_template_rows": null,
            "right": null,
            "justify_content": null,
            "_view_module": "@jupyter-widgets/base",
            "overflow": null,
            "_model_module_version": "1.2.0",
            "_view_count": null,
            "flex_flow": null,
            "width": null,
            "min_width": null,
            "border": null,
            "align_items": null,
            "bottom": null,
            "_model_module": "@jupyter-widgets/base",
            "top": null,
            "grid_column": null,
            "overflow_y": null,
            "overflow_x": null,
            "grid_auto_flow": null,
            "grid_area": null,
            "grid_template_columns": null,
            "flex": null,
            "_model_name": "LayoutModel",
            "justify_items": null,
            "grid_row": null,
            "max_height": null,
            "align_content": null,
            "visibility": null,
            "align_self": null,
            "height": null,
            "min_height": null,
            "padding": null,
            "grid_auto_rows": null,
            "grid_gap": null,
            "max_width": null,
            "order": null,
            "_view_module_version": "1.2.0",
            "grid_template_areas": null,
            "object_position": null,
            "object_fit": null,
            "grid_auto_columns": null,
            "margin": null,
            "display": null,
            "left": null
          }
        },
        "f170739527fa4bb294263501640b9614": {
          "model_module": "@jupyter-widgets/controls",
          "model_name": "ProgressStyleModel",
          "model_module_version": "1.5.0",
          "state": {
            "_view_name": "StyleView",
            "_model_name": "ProgressStyleModel",
            "description_width": "",
            "_view_module": "@jupyter-widgets/base",
            "_model_module_version": "1.5.0",
            "_view_count": null,
            "_view_module_version": "1.2.0",
            "bar_color": null,
            "_model_module": "@jupyter-widgets/controls"
          }
        },
        "2cfc287aed8d4ade9c86e8d920a22391": {
          "model_module": "@jupyter-widgets/base",
          "model_name": "LayoutModel",
          "model_module_version": "1.2.0",
          "state": {
            "_view_name": "LayoutView",
            "grid_template_rows": null,
            "right": null,
            "justify_content": null,
            "_view_module": "@jupyter-widgets/base",
            "overflow": null,
            "_model_module_version": "1.2.0",
            "_view_count": null,
            "flex_flow": null,
            "width": null,
            "min_width": null,
            "border": null,
            "align_items": null,
            "bottom": null,
            "_model_module": "@jupyter-widgets/base",
            "top": null,
            "grid_column": null,
            "overflow_y": null,
            "overflow_x": null,
            "grid_auto_flow": null,
            "grid_area": null,
            "grid_template_columns": null,
            "flex": null,
            "_model_name": "LayoutModel",
            "justify_items": null,
            "grid_row": null,
            "max_height": null,
            "align_content": null,
            "visibility": null,
            "align_self": null,
            "height": null,
            "min_height": null,
            "padding": null,
            "grid_auto_rows": null,
            "grid_gap": null,
            "max_width": null,
            "order": null,
            "_view_module_version": "1.2.0",
            "grid_template_areas": null,
            "object_position": null,
            "object_fit": null,
            "grid_auto_columns": null,
            "margin": null,
            "display": null,
            "left": null
          }
        },
        "fa208022abab4c9f85a57c2d99287eef": {
          "model_module": "@jupyter-widgets/controls",
          "model_name": "DescriptionStyleModel",
          "model_module_version": "1.5.0",
          "state": {
            "_view_name": "StyleView",
            "_model_name": "DescriptionStyleModel",
            "description_width": "",
            "_view_module": "@jupyter-widgets/base",
            "_model_module_version": "1.5.0",
            "_view_count": null,
            "_view_module_version": "1.2.0",
            "_model_module": "@jupyter-widgets/controls"
          }
        },
        "0c4b71361f2541ccba4e883c15360994": {
          "model_module": "@jupyter-widgets/base",
          "model_name": "LayoutModel",
          "model_module_version": "1.2.0",
          "state": {
            "_view_name": "LayoutView",
            "grid_template_rows": null,
            "right": null,
            "justify_content": null,
            "_view_module": "@jupyter-widgets/base",
            "overflow": null,
            "_model_module_version": "1.2.0",
            "_view_count": null,
            "flex_flow": null,
            "width": null,
            "min_width": null,
            "border": null,
            "align_items": null,
            "bottom": null,
            "_model_module": "@jupyter-widgets/base",
            "top": null,
            "grid_column": null,
            "overflow_y": null,
            "overflow_x": null,
            "grid_auto_flow": null,
            "grid_area": null,
            "grid_template_columns": null,
            "flex": null,
            "_model_name": "LayoutModel",
            "justify_items": null,
            "grid_row": null,
            "max_height": null,
            "align_content": null,
            "visibility": null,
            "align_self": null,
            "height": null,
            "min_height": null,
            "padding": null,
            "grid_auto_rows": null,
            "grid_gap": null,
            "max_width": null,
            "order": null,
            "_view_module_version": "1.2.0",
            "grid_template_areas": null,
            "object_position": null,
            "object_fit": null,
            "grid_auto_columns": null,
            "margin": null,
            "display": null,
            "left": null
          }
        }
      }
    },
    "accelerator": "GPU"
  },
  "nbformat": 4,
  "nbformat_minor": 0
}